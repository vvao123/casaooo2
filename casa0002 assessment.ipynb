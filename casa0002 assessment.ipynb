{
 "cells": [
  {
   "cell_type": "code",
   "execution_count": 1,
   "id": "46bbb9f7",
   "metadata": {},
   "outputs": [],
   "source": [
    "import networkx as nx\n",
    "import matplotlib.pyplot as plt\n",
    "import pandas as pd\n",
    "from operator import itemgetter\n",
    "import numpy as np\n",
    "import statsmodels.api as sm\n",
    "import statsmodels.formula.api as smf\n",
    "import scipy.stats\n",
    "from math import sqrt\n",
    "import seaborn as sns"
   ]
  },
  {
   "cell_type": "code",
   "execution_count": 2,
   "id": "aff50956",
   "metadata": {},
   "outputs": [],
   "source": [
    "G=nx.read_graphml('london.graph')\n"
   ]
  },
  {
   "cell_type": "code",
   "execution_count": 3,
   "id": "a49c7816",
   "metadata": {},
   "outputs": [
    {
     "data": {
      "text/plain": [
       "False"
      ]
     },
     "execution_count": 3,
     "metadata": {},
     "output_type": "execute_result"
    }
   ],
   "source": [
    "nx.is_directed(G)"
   ]
  },
  {
   "cell_type": "code",
   "execution_count": 4,
   "id": "8146f9d9",
   "metadata": {},
   "outputs": [
    {
     "data": {
      "text/plain": [
       "('Wembley Park', {'coords': '(519316.5590174915, 186389.32981656672)'})"
      ]
     },
     "execution_count": 4,
     "metadata": {},
     "output_type": "execute_result"
    }
   ],
   "source": [
    "list(G.nodes(data = True))[0]"
   ]
  },
  {
   "cell_type": "code",
   "execution_count": 5,
   "id": "a74e1662",
   "metadata": {},
   "outputs": [
    {
     "data": {
      "text/plain": [
       "'Graph with 401 nodes and 467 edges'"
      ]
     },
     "execution_count": 5,
     "metadata": {},
     "output_type": "execute_result"
    }
   ],
   "source": [
    "nx.info(G)"
   ]
  },
  {
   "cell_type": "code",
   "execution_count": 6,
   "id": "b5ce8507",
   "metadata": {},
   "outputs": [
    {
     "data": {
      "text/plain": [
       "('Wembley Park',\n",
       " 'Kingsbury',\n",
       " {'length': 2916.7715580506483, 'line_name': 'Jubilee', 'flows': 12356})"
      ]
     },
     "execution_count": 6,
     "metadata": {},
     "output_type": "execute_result"
    }
   ],
   "source": [
    "list(G.edges(data = True))[0]"
   ]
  },
  {
   "cell_type": "code",
   "execution_count": 7,
   "id": "d3fae3fe",
   "metadata": {},
   "outputs": [
    {
     "data": {
      "text/plain": [
       "('Wembley Park', 'Neasden', 2353.1659381957816)"
      ]
     },
     "execution_count": 7,
     "metadata": {},
     "output_type": "execute_result"
    }
   ],
   "source": [
    "list(G.edges(data='length'))[1]"
   ]
  },
  {
   "cell_type": "code",
   "execution_count": 8,
   "id": "18803c4a",
   "metadata": {},
   "outputs": [],
   "source": [
    "# degree_centrality\n",
    "deg_london =nx.degree_centrality(G)\n",
    "nx.set_node_attributes(G,dict(deg_london),'degree')"
   ]
  },
  {
   "cell_type": "code",
   "execution_count": 9,
   "id": "8aa532fb",
   "metadata": {},
   "outputs": [
    {
     "data": {
      "text/html": [
       "<div>\n",
       "<style scoped>\n",
       "    .dataframe tbody tr th:only-of-type {\n",
       "        vertical-align: middle;\n",
       "    }\n",
       "\n",
       "    .dataframe tbody tr th {\n",
       "        vertical-align: top;\n",
       "    }\n",
       "\n",
       "    .dataframe thead th {\n",
       "        text-align: right;\n",
       "    }\n",
       "</style>\n",
       "<table border=\"1\" class=\"dataframe\">\n",
       "  <thead>\n",
       "    <tr style=\"text-align: right;\">\n",
       "      <th></th>\n",
       "      <th>degree</th>\n",
       "    </tr>\n",
       "  </thead>\n",
       "  <tbody>\n",
       "    <tr>\n",
       "      <th>Stratford</th>\n",
       "      <td>0.0225</td>\n",
       "    </tr>\n",
       "    <tr>\n",
       "      <th>Bank and Monument</th>\n",
       "      <td>0.0200</td>\n",
       "    </tr>\n",
       "    <tr>\n",
       "      <th>King's Cross St. Pancras</th>\n",
       "      <td>0.0175</td>\n",
       "    </tr>\n",
       "    <tr>\n",
       "      <th>Baker Street</th>\n",
       "      <td>0.0175</td>\n",
       "    </tr>\n",
       "    <tr>\n",
       "      <th>Earl's Court</th>\n",
       "      <td>0.0150</td>\n",
       "    </tr>\n",
       "    <tr>\n",
       "      <th>Oxford Circus</th>\n",
       "      <td>0.0150</td>\n",
       "    </tr>\n",
       "    <tr>\n",
       "      <th>Liverpool Street</th>\n",
       "      <td>0.0150</td>\n",
       "    </tr>\n",
       "    <tr>\n",
       "      <th>Waterloo</th>\n",
       "      <td>0.0150</td>\n",
       "    </tr>\n",
       "    <tr>\n",
       "      <th>Green Park</th>\n",
       "      <td>0.0150</td>\n",
       "    </tr>\n",
       "    <tr>\n",
       "      <th>Canning Town</th>\n",
       "      <td>0.0150</td>\n",
       "    </tr>\n",
       "  </tbody>\n",
       "</table>\n",
       "</div>"
      ],
      "text/plain": [
       "                          degree\n",
       "Stratford                 0.0225\n",
       "Bank and Monument         0.0200\n",
       "King's Cross St. Pancras  0.0175\n",
       "Baker Street              0.0175\n",
       "Earl's Court              0.0150\n",
       "Oxford Circus             0.0150\n",
       "Liverpool Street          0.0150\n",
       "Waterloo                  0.0150\n",
       "Green Park                0.0150\n",
       "Canning Town              0.0150"
      ]
     },
     "execution_count": 9,
     "metadata": {},
     "output_type": "execute_result"
    }
   ],
   "source": [
    "df = pd.DataFrame(index=G.nodes())\n",
    "df['degree'] = pd.Series(nx.get_node_attributes(G, 'degree'))\n",
    "\n",
    "df_sorted_deg = df.sort_values([\"degree\"], ascending=False)\n",
    "df_sorted_deg[0:10]"
   ]
  },
  {
   "cell_type": "code",
   "execution_count": 10,
   "id": "07b49304",
   "metadata": {},
   "outputs": [],
   "source": [
    "# betweenness_centrality\n",
    "bet_london=nx.betweenness_centrality(G,normalized=False)\n",
    "nx.set_node_attributes(G,bet_london,'betweenness')"
   ]
  },
  {
   "cell_type": "code",
   "execution_count": 11,
   "id": "87c1b055",
   "metadata": {},
   "outputs": [
    {
     "data": {
      "text/html": [
       "<div>\n",
       "<style scoped>\n",
       "    .dataframe tbody tr th:only-of-type {\n",
       "        vertical-align: middle;\n",
       "    }\n",
       "\n",
       "    .dataframe tbody tr th {\n",
       "        vertical-align: top;\n",
       "    }\n",
       "\n",
       "    .dataframe thead th {\n",
       "        text-align: right;\n",
       "    }\n",
       "</style>\n",
       "<table border=\"1\" class=\"dataframe\">\n",
       "  <thead>\n",
       "    <tr style=\"text-align: right;\">\n",
       "      <th></th>\n",
       "      <th>betweenness</th>\n",
       "    </tr>\n",
       "  </thead>\n",
       "  <tbody>\n",
       "    <tr>\n",
       "      <th>Stratford</th>\n",
       "      <td>23768.093434</td>\n",
       "    </tr>\n",
       "    <tr>\n",
       "      <th>Bank and Monument</th>\n",
       "      <td>23181.058947</td>\n",
       "    </tr>\n",
       "    <tr>\n",
       "      <th>Liverpool Street</th>\n",
       "      <td>21610.387049</td>\n",
       "    </tr>\n",
       "    <tr>\n",
       "      <th>King's Cross St. Pancras</th>\n",
       "      <td>20373.521465</td>\n",
       "    </tr>\n",
       "    <tr>\n",
       "      <th>Waterloo</th>\n",
       "      <td>19464.882323</td>\n",
       "    </tr>\n",
       "    <tr>\n",
       "      <th>Green Park</th>\n",
       "      <td>17223.622114</td>\n",
       "    </tr>\n",
       "    <tr>\n",
       "      <th>Euston</th>\n",
       "      <td>16624.275469</td>\n",
       "    </tr>\n",
       "    <tr>\n",
       "      <th>Westminster</th>\n",
       "      <td>16226.155916</td>\n",
       "    </tr>\n",
       "    <tr>\n",
       "      <th>Baker Street</th>\n",
       "      <td>15287.107612</td>\n",
       "    </tr>\n",
       "    <tr>\n",
       "      <th>Finchley Road</th>\n",
       "      <td>13173.758009</td>\n",
       "    </tr>\n",
       "  </tbody>\n",
       "</table>\n",
       "</div>"
      ],
      "text/plain": [
       "                           betweenness\n",
       "Stratford                 23768.093434\n",
       "Bank and Monument         23181.058947\n",
       "Liverpool Street          21610.387049\n",
       "King's Cross St. Pancras  20373.521465\n",
       "Waterloo                  19464.882323\n",
       "Green Park                17223.622114\n",
       "Euston                    16624.275469\n",
       "Westminster               16226.155916\n",
       "Baker Street              15287.107612\n",
       "Finchley Road             13173.758009"
      ]
     },
     "execution_count": 11,
     "metadata": {},
     "output_type": "execute_result"
    }
   ],
   "source": [
    "df = pd.DataFrame(index=G.nodes())\n",
    "df['betweenness'] = pd.Series(nx.get_node_attributes(G, 'betweenness'))\n",
    "df_sorted_bet = df.sort_values([\"betweenness\"], ascending=False)\n",
    "df_sorted_bet[0:10]"
   ]
  },
  {
   "cell_type": "code",
   "execution_count": 12,
   "id": "b2b19ea9",
   "metadata": {},
   "outputs": [],
   "source": [
    "# eigenvector_centrality\n",
    "# eig_london=nx.eigenvector_centrality_numpy(G)\n",
    "# nx.set_node_attributes(G,eig_london,'eigenvector')\n",
    "# df = pd.DataFrame(index=G.nodes())\n",
    "# df['eigenvector'] = pd.Series(nx.get_node_attributes(G, 'eigenvector'))\n",
    "# df_sorted = df.sort_values([\"eigenvector\"], ascending=False)\n",
    "# df_sorted[0:10]"
   ]
  },
  {
   "cell_type": "code",
   "execution_count": 13,
   "id": "4a3848a2",
   "metadata": {},
   "outputs": [
    {
     "data": {
      "text/html": [
       "<div>\n",
       "<style scoped>\n",
       "    .dataframe tbody tr th:only-of-type {\n",
       "        vertical-align: middle;\n",
       "    }\n",
       "\n",
       "    .dataframe tbody tr th {\n",
       "        vertical-align: top;\n",
       "    }\n",
       "\n",
       "    .dataframe thead th {\n",
       "        text-align: right;\n",
       "    }\n",
       "</style>\n",
       "<table border=\"1\" class=\"dataframe\">\n",
       "  <thead>\n",
       "    <tr style=\"text-align: right;\">\n",
       "      <th></th>\n",
       "      <th>closeness</th>\n",
       "    </tr>\n",
       "  </thead>\n",
       "  <tbody>\n",
       "    <tr>\n",
       "      <th>Green Park</th>\n",
       "      <td>0.114778</td>\n",
       "    </tr>\n",
       "    <tr>\n",
       "      <th>Bank and Monument</th>\n",
       "      <td>0.113572</td>\n",
       "    </tr>\n",
       "    <tr>\n",
       "      <th>King's Cross St. Pancras</th>\n",
       "      <td>0.113443</td>\n",
       "    </tr>\n",
       "    <tr>\n",
       "      <th>Westminster</th>\n",
       "      <td>0.112549</td>\n",
       "    </tr>\n",
       "    <tr>\n",
       "      <th>Waterloo</th>\n",
       "      <td>0.112265</td>\n",
       "    </tr>\n",
       "    <tr>\n",
       "      <th>Oxford Circus</th>\n",
       "      <td>0.111204</td>\n",
       "    </tr>\n",
       "    <tr>\n",
       "      <th>Bond Street</th>\n",
       "      <td>0.110988</td>\n",
       "    </tr>\n",
       "    <tr>\n",
       "      <th>Farringdon</th>\n",
       "      <td>0.110742</td>\n",
       "    </tr>\n",
       "    <tr>\n",
       "      <th>Angel</th>\n",
       "      <td>0.110742</td>\n",
       "    </tr>\n",
       "    <tr>\n",
       "      <th>Moorgate</th>\n",
       "      <td>0.110314</td>\n",
       "    </tr>\n",
       "  </tbody>\n",
       "</table>\n",
       "</div>"
      ],
      "text/plain": [
       "                          closeness\n",
       "Green Park                 0.114778\n",
       "Bank and Monument          0.113572\n",
       "King's Cross St. Pancras   0.113443\n",
       "Westminster                0.112549\n",
       "Waterloo                   0.112265\n",
       "Oxford Circus              0.111204\n",
       "Bond Street                0.110988\n",
       "Farringdon                 0.110742\n",
       "Angel                      0.110742\n",
       "Moorgate                   0.110314"
      ]
     },
     "execution_count": 13,
     "metadata": {},
     "output_type": "execute_result"
    }
   ],
   "source": [
    "# closeness_centrality\n",
    "clo_london=nx.closeness_centrality(G)\n",
    "nx.set_node_attributes(G,clo_london,'closeness')\n",
    "df = pd.DataFrame(index=G.nodes())\n",
    "df['closeness'] = pd.Series(nx.get_node_attributes(G, 'closeness'))\n",
    "df_sorted_clo = df.sort_values([\"closeness\"], ascending=False)\n",
    "df_sorted_clo[0:10]"
   ]
  },
  {
   "cell_type": "code",
   "execution_count": 14,
   "id": "3526443d",
   "metadata": {},
   "outputs": [],
   "source": [
    "clu_G = nx.average_clustering(G)"
   ]
  },
  {
   "cell_type": "code",
   "execution_count": 15,
   "id": "4d22e850",
   "metadata": {},
   "outputs": [],
   "source": [
    "density_G=nx.density(G)\n",
    "# robust=nx.number_connected_components(G)\n",
    "comp_G=nx.number_connected_components(G)"
   ]
  },
  {
   "cell_type": "code",
   "execution_count": 16,
   "id": "ba6029e0",
   "metadata": {},
   "outputs": [
    {
     "data": {
      "text/plain": [
       "13.545997506234414"
      ]
     },
     "execution_count": 16,
     "metadata": {},
     "output_type": "execute_result"
    }
   ],
   "source": [
    "avg_short=nx.average_shortest_path_length(G)\n",
    "avg_short"
   ]
  },
  {
   "cell_type": "code",
   "execution_count": 17,
   "id": "c54ddfad",
   "metadata": {},
   "outputs": [],
   "source": [
    "G21=G.copy()\n",
    "G22=G.copy()"
   ]
  },
  {
   "cell_type": "code",
   "execution_count": 18,
   "id": "2f3baea3",
   "metadata": {},
   "outputs": [
    {
     "name": "stdout",
     "output_type": "stream",
     "text": [
      "average_clustering: 0.030625000000000003 \n",
      "density: 0.005739348370927318\n",
      "average_clustering: 0.030027449576321755 \n",
      "density: 0.0056674349189556805\n",
      "average_clustering: 0.027051926298157458 \n",
      "density: 0.005607381998151969\n",
      "average_clustering: 0.027287993282955506 \n",
      "density: 0.005546650382922423\n",
      "average_clustering: 0.024410774410774414 \n",
      "density: 0.00551080424498146\n",
      "average_clustering: 0.02447257383966245 \n",
      "density: 0.005474522906894558\n",
      "average_clustering: 0.02343485617597293 \n",
      "density: 0.005437801113393007\n",
      "average_clustering: 0.021967769296013573 \n",
      "density: 0.005387651243703588\n",
      "average_clustering: 0.02372448979591837 \n",
      "density: 0.005349966073385876\n",
      "average_clustering: 0.02378516624040921 \n",
      "density: 0.0053249393402846085\n"
     ]
    }
   ],
   "source": [
    "G21=G.copy()\n",
    "values_sorted = sorted(deg_london.items(), key=itemgetter(1), reverse=True)  \n",
    "sorted_ten=[e for e,v in values_sorted[:10]]\n",
    "avg_clu_1_deg=[clu_G]\n",
    "# density_1_deg=[density_G]\n",
    "comp_1_deg=[comp_G]\n",
    "for station in sorted_ten:\n",
    "    G21.remove_nodes_from([station])\n",
    "    avg_clu_1_deg.append(nx.average_clustering(G21))\n",
    "#     density_1_deg.append(nx.density(G21))\n",
    "    comp_1_deg.append(nx.number_connected_components(G21))\n",
    "    print('average_clustering:',\n",
    "          nx.average_clustering(G21),'\\ndensity:',nx.density(G21))\n"
   ]
  },
  {
   "cell_type": "code",
   "execution_count": 19,
   "id": "e25cc8df",
   "metadata": {},
   "outputs": [],
   "source": [
    "G21=G.copy()\n",
    "values_sorted = sorted(bet_london.items(), key=itemgetter(1), reverse=True)  \n",
    "sorted_ten=[e for e,v in values_sorted[:10]]\n",
    "avg_clu_1_bet=[clu_G]\n",
    "# density_1_bet=[density_G]\n",
    "comp_1_bet=[comp_G]\n",
    "for station in sorted_ten:\n",
    "    G21.remove_nodes_from([station])\n",
    "    avg_clu_1_bet.append(nx.average_clustering(G21))\n",
    "#     density_1_bet.append(nx.density(G21))\n",
    "    comp_1_bet.append(nx.number_connected_components(G21))\n",
    "#     print('average_clustering:',\n",
    "#           nx.average_clustering(G21),'\\ndensity:',nx.density(G21))"
   ]
  },
  {
   "cell_type": "code",
   "execution_count": 20,
   "id": "c8d014f0",
   "metadata": {},
   "outputs": [],
   "source": [
    "# G21=G.copy()\n",
    "# values_sorted = sorted(eig_london.items(), key=itemgetter(1), reverse=True)  \n",
    "# sorted_ten=[e for e,v in values_sorted[:10]]\n",
    "# avg_clu_1_eig=[clu_G]\n",
    "# density_1_eig=[density_G]\n",
    "# for station in sorted_ten:\n",
    "#     G21.remove_nodes_from([station])\n",
    "#     avg_clu_1_eig.append(nx.average_clustering(G21))\n",
    "#     density_1_eig.append(nx.density(G21))\n",
    "#     print(station)\n",
    "#     print('average_clustering:',\n",
    "#           nx.average_clustering(G21),'\\ndensity:',nx.density(G21))"
   ]
  },
  {
   "cell_type": "code",
   "execution_count": 21,
   "id": "b778a45f",
   "metadata": {},
   "outputs": [],
   "source": [
    "G21=G.copy()\n",
    "values_sorted = sorted(clo_london.items(), key=itemgetter(1), reverse=True)  \n",
    "sorted_ten=[e for e,v in values_sorted[:10]]\n",
    "avg_clu_1_clo=[clu_G]\n",
    "# density_1_clo=[density_G]\n",
    "comp_1_clo=[comp_G]\n",
    "for station in sorted_ten:\n",
    "    G21.remove_nodes_from([station])\n",
    "    avg_clu_1_clo.append(nx.average_clustering(G21))\n",
    "#     density_1_clo.append(nx.density(G21))\n",
    "    comp_1_clo.append(nx.number_connected_components(G21))"
   ]
  },
  {
   "cell_type": "code",
   "execution_count": 22,
   "id": "c29ffcfb",
   "metadata": {},
   "outputs": [],
   "source": [
    "G22=G.copy()\n",
    "avg_clu_2_clo=[clu_G]\n",
    "# density_2_clo=[density_G]\n",
    "comp_2_clo=[comp_G]\n",
    "for m in range(10):\n",
    "#     update degree every loop\n",
    "    nx.set_node_attributes(G22,dict(nx.closeness_centrality(G22)),'closeness') \n",
    "    closeness_val=[(i[1]['closeness']) for i in G22.nodes(data=True)]\n",
    "    maxclo=[n for n in G22.nodes() if G22.nodes[n]['closeness'] == max(closeness_val)]\n",
    "#     print(maxclo[0])\n",
    "    G22.remove_nodes_from([maxclo[0]])\n",
    "    avg_clu_2_clo.append(nx.average_clustering(G22))\n",
    "#     density_2_clo.append(nx.density(G22))\n",
    "    comp_2_clo.append(nx.number_connected_components(G22))"
   ]
  },
  {
   "cell_type": "code",
   "execution_count": 23,
   "id": "a85614bb",
   "metadata": {},
   "outputs": [
    {
     "name": "stdout",
     "output_type": "stream",
     "text": [
      "Stratford\n",
      "Bank and Monument\n",
      "Baker Street\n",
      "King's Cross St. Pancras\n",
      "Canning Town\n",
      "Green Park\n",
      "Earl's Court\n",
      "Waterloo\n",
      "Oxford Circus\n",
      "Willesden Junction\n"
     ]
    }
   ],
   "source": [
    "G22=G.copy()\n",
    "avg_clu_2_deg=[clu_G]\n",
    "# density_2_deg=[density_G]\n",
    "comp_2_deg=[comp_G]\n",
    "for m in range(10):\n",
    "#     update degree every loop\n",
    "    nx.set_node_attributes(G22,dict(nx.degree_centrality(G22)),'degree') \n",
    "    degree_val=[(i[1]['degree']) for i in G22.nodes(data=True)]\n",
    "    maxdeg=[n for n in G22.nodes() if G22.nodes[n]['degree'] == max(degree_val)]\n",
    "    print(maxdeg[0])\n",
    "    G22.remove_nodes_from([maxdeg[0]])\n",
    "    avg_clu_2_deg.append(nx.average_clustering(G22))\n",
    "#     density_2_deg.append(nx.density(G22))\n",
    "    comp_2_deg.append(nx.number_connected_components(G22))"
   ]
  },
  {
   "cell_type": "code",
   "execution_count": 24,
   "id": "0ad49bc9",
   "metadata": {},
   "outputs": [],
   "source": [
    "G22=G.copy()\n",
    "avg_clu_2_bet=[clu_G]\n",
    "# density_2_bet=[density_G]\n",
    "comp_2_bet=[comp_G]\n",
    "bet=[]\n",
    "for m in range(10):\n",
    "#     update every loop\n",
    "    nx.set_node_attributes(G22,dict(nx.betweenness_centrality(G22,normalized=False)),'betweenness') \n",
    "    betweenness_val=[(i[1]['betweenness']) for i in G22.nodes(data=True)]\n",
    "    \n",
    "    maxbet=[n for n in G22.nodes() if G22.nodes[n]['betweenness'] == max(betweenness_val)]\n",
    "    bet.append(max(betweenness_val))\n",
    "#     print(maxbet[0])\n",
    "    G22.remove_nodes_from([maxbet[0]])\n",
    "    avg_clu_2_bet.append(nx.average_clustering(G22))\n",
    "#     density_2_bet.append(nx.density(G22))\n",
    "    comp_2_bet.append(nx.number_connected_components(G22))"
   ]
  },
  {
   "cell_type": "code",
   "execution_count": 25,
   "id": "cd352b87",
   "metadata": {},
   "outputs": [],
   "source": [
    "# G22=G.copy()\n",
    "# avg_clu_2_eig=[clu_G]\n",
    "# density_2_eig=[density_G]\n",
    "# for m in range(10):\n",
    "# #     update every loop\n",
    "#     nx.set_node_attributes(G22,dict(nx.eigenvector_centrality_numpy(G22)),'eigenvector') \n",
    "#     eigenvector_val=[(i[1]['eigenvector']) for i in G22.nodes(data=True)]\n",
    "#     maxeig=[n for n in G22.nodes() if G22.nodes[n]['eigenvector'] == max(eigenvector_val)]\n",
    "#     print(maxeig[0])\n",
    "#     G22.remove_nodes_from([maxeig[0]])\n",
    "#     avg_clu_2_eig.append(nx.average_clustering(G22))\n",
    "#     density_2_eig.append(nx.density(G22))\n"
   ]
  },
  {
   "cell_type": "code",
   "execution_count": 119,
   "id": "27cbef91",
   "metadata": {},
   "outputs": [
    {
     "data": {
      "image/png": "[encoded data removed]",
      "text/plain": [
       "<Figure size 576x1008 with 3 Axes>"
      ]
     },
     "metadata": {
      "needs_background": "light"
     },
     "output_type": "display_data"
    }
   ],
   "source": [
    "plt.figure(figsize=(8, 14))\n",
    "plt.subplot(3,1,1)\n",
    "plt.title('degree centrality(a)')\n",
    "plt.plot(avg_clu_1_deg,label='non-sequential')\n",
    "plt.plot(avg_clu_2_deg,label='sequential')\n",
    "plt.legend()\n",
    "plt.subplot(3,1,2)\n",
    "plt.title('betweenness centrality(b)')\n",
    "plt.plot(avg_clu_1_bet,label='non-sequential')\n",
    "plt.plot(avg_clu_2_bet,label='sequential')\n",
    "plt.legend()\n",
    "plt.subplot(3,1,3)\n",
    "plt.title('closeness centrality(c)')\n",
    "plt.plot(avg_clu_1_clo,label='non-sequential')\n",
    "plt.plot(avg_clu_2_clo,label='sequential')\n",
    "plt.legend()\n",
    "plt.savefig('avg_clu.png')"
   ]
  },
  {
   "cell_type": "code",
   "execution_count": 28,
   "id": "366ae644",
   "metadata": {},
   "outputs": [
    {
     "data": {
      "text/plain": [
       "[23768.09343434341,\n",
       " 23181.05894660899,\n",
       " 21610.387049062047,\n",
       " 20373.521464646434,\n",
       " 19464.882323232327,\n",
       " 17223.622113997128,\n",
       " 16624.275468975477,\n",
       " 16226.155916305914,\n",
       " 15287.107611832655,\n",
       " 13173.758008657984]"
      ]
     },
     "execution_count": 28,
     "metadata": {},
     "output_type": "execute_result"
    }
   ],
   "source": [
    "df_sorted_bet['betweenness'].values[0:10].tolist()"
   ]
  },
  {
   "cell_type": "code",
   "execution_count": 120,
   "id": "4f9ad6f8",
   "metadata": {},
   "outputs": [
    {
     "data": {
      "image/png": "[encoded data removed]",
      "text/plain": [
       "<Figure size 576x1008 with 3 Axes>"
      ]
     },
     "metadata": {
      "needs_background": "light"
     },
     "output_type": "display_data"
    }
   ],
   "source": [
    "  plt.figure(figsize=(8, 14))\n",
    "plt.subplot(3,1,1)\n",
    "plt.title('degree centrality(a)')\n",
    "plt.plot(comp_1_deg,label='non-sequential')\n",
    "plt.plot(comp_2_deg,label='sequential')\n",
    "plt.legend()\n",
    "plt.subplot(3,1,2)\n",
    "plt.title('betweenness centrality(b)')\n",
    "plt.plot(comp_1_bet,label='non-sequential')\n",
    "plt.plot(comp_2_bet,label='sequential')\n",
    "plt.legend()\n",
    "plt.subplot(3,1,3)\n",
    "plt.title('closeness centrality(c)')\n",
    "plt.plot(comp_1_clo,label='non-sequential')\n",
    "plt.plot(comp_2_clo,label='sequential')\n",
    "plt.legend()\n",
    "plt.savefig('comp.png')"
   ]
  },
  {
   "cell_type": "code",
   "execution_count": 30,
   "id": "d859768b",
   "metadata": {},
   "outputs": [],
   "source": [
    "# II.1.\n",
    "G3=G.copy()\n",
    "v_flows={(e1, e2):round(1./(flows+0.1),7) for e1, e2, flows in G3.edges(data='flows')}\n",
    "# Let us add the inverted weight as an attribute to the edges in the graph\n",
    "nx.set_edge_attributes(G3, v_flows, 'v_flows')"
   ]
  },
  {
   "cell_type": "code",
   "execution_count": 31,
   "id": "f5d1544f",
   "metadata": {},
   "outputs": [],
   "source": [
    "bet_london=nx.betweenness_centrality(G3,normalized=False,weight='v_flows')\n",
    "nx.set_node_attributes(G3,bet_london,'betweenness_w')"
   ]
  },
  {
   "cell_type": "code",
   "execution_count": 32,
   "id": "d1b61fe9",
   "metadata": {
    "scrolled": true
   },
   "outputs": [
    {
     "data": {
      "text/html": [
       "<div>\n",
       "<style scoped>\n",
       "    .dataframe tbody tr th:only-of-type {\n",
       "        vertical-align: middle;\n",
       "    }\n",
       "\n",
       "    .dataframe tbody tr th {\n",
       "        vertical-align: top;\n",
       "    }\n",
       "\n",
       "    .dataframe thead th {\n",
       "        text-align: right;\n",
       "    }\n",
       "</style>\n",
       "<table border=\"1\" class=\"dataframe\">\n",
       "  <thead>\n",
       "    <tr style=\"text-align: right;\">\n",
       "      <th></th>\n",
       "      <th>betweenness_w</th>\n",
       "    </tr>\n",
       "  </thead>\n",
       "  <tbody>\n",
       "    <tr>\n",
       "      <th>Green Park</th>\n",
       "      <td>45690.0</td>\n",
       "    </tr>\n",
       "    <tr>\n",
       "      <th>Bank and Monument</th>\n",
       "      <td>40322.0</td>\n",
       "    </tr>\n",
       "    <tr>\n",
       "      <th>Waterloo</th>\n",
       "      <td>33231.0</td>\n",
       "    </tr>\n",
       "    <tr>\n",
       "      <th>Westminster</th>\n",
       "      <td>30433.0</td>\n",
       "    </tr>\n",
       "    <tr>\n",
       "      <th>Liverpool Street</th>\n",
       "      <td>26878.0</td>\n",
       "    </tr>\n",
       "    <tr>\n",
       "      <th>Stratford</th>\n",
       "      <td>26437.0</td>\n",
       "    </tr>\n",
       "    <tr>\n",
       "      <th>Bond Street</th>\n",
       "      <td>23288.0</td>\n",
       "    </tr>\n",
       "    <tr>\n",
       "      <th>Euston</th>\n",
       "      <td>22682.0</td>\n",
       "    </tr>\n",
       "    <tr>\n",
       "      <th>Oxford Circus</th>\n",
       "      <td>21607.0</td>\n",
       "    </tr>\n",
       "    <tr>\n",
       "      <th>Warren Street</th>\n",
       "      <td>20292.0</td>\n",
       "    </tr>\n",
       "  </tbody>\n",
       "</table>\n",
       "</div>"
      ],
      "text/plain": [
       "                   betweenness_w\n",
       "Green Park               45690.0\n",
       "Bank and Monument        40322.0\n",
       "Waterloo                 33231.0\n",
       "Westminster              30433.0\n",
       "Liverpool Street         26878.0\n",
       "Stratford                26437.0\n",
       "Bond Street              23288.0\n",
       "Euston                   22682.0\n",
       "Oxford Circus            21607.0\n",
       "Warren Street            20292.0"
      ]
     },
     "execution_count": 32,
     "metadata": {},
     "output_type": "execute_result"
    }
   ],
   "source": [
    "df = pd.DataFrame(index=G3.nodes())\n",
    "df['betweenness_w'] = pd.Series(nx.get_node_attributes(G3, 'betweenness_w'))\n",
    "df_sorted = df.sort_values([\"betweenness_w\"], ascending=False)\n",
    "df_sorted[0:10]"
   ]
  },
  {
   "cell_type": "code",
   "execution_count": 33,
   "id": "16abd0a4",
   "metadata": {},
   "outputs": [],
   "source": [
    "def avg_flow(G):\n",
    "#   new gloabal measure: the average passenger flow of each station\n",
    "    n=nx.number_of_nodes(G)\n",
    "    m=nx.number_of_edges(G)\n",
    "    df = pd.DataFrame(index=G.edges())\n",
    "    df['flows'] = pd.Series(nx.get_edge_attributes(G, 'flows'))\n",
    "    sum1=df.flows.sum()\n",
    "    d= sum1/n\n",
    "    return d\n"
   ]
  },
  {
   "cell_type": "code",
   "execution_count": 36,
   "id": "7ec5ee63",
   "metadata": {},
   "outputs": [
    {
     "name": "stdout",
     "output_type": "stream",
     "text": [
      "0.0015791877116043108 24765.204488778054\n"
     ]
    }
   ],
   "source": [
    "avg_clu_w_G=nx.average_clustering(G,weight='flows')\n",
    "avg_flow_G=avg_flow(G)\n",
    "print(avg_clu_w_G,avg_flow_G)"
   ]
  },
  {
   "cell_type": "code",
   "execution_count": 37,
   "id": "7833fb43",
   "metadata": {},
   "outputs": [
    {
     "name": "stdout",
     "output_type": "stream",
     "text": [
      "0.0016156156374706456 23915.715\n"
     ]
    }
   ],
   "source": [
    "G3=G.copy()\n",
    "G3.remove_nodes_from(['Stratford'])\n",
    "avg_clu_w_G3=nx.average_clustering(G3,weight='flows')\n",
    "avg_flow_G3=avg_flow(G3)\n",
    "print(avg_clu_w_G3,avg_flow_G3)"
   ]
  },
  {
   "cell_type": "code",
   "execution_count": 38,
   "id": "01fd8fa2",
   "metadata": {},
   "outputs": [
    {
     "name": "stdout",
     "output_type": "stream",
     "text": [
      "0.0013181475470089986 23255.5125\n"
     ]
    }
   ],
   "source": [
    "G3=G.copy()\n",
    "G3.remove_nodes_from(['Green Park'])\n",
    "avg_clu_w_G3=nx.average_clustering(G3,weight='flows')\n",
    "avg_flow_G3=avg_flow(G3)\n",
    "print(avg_clu_w_G3,avg_flow_G3)"
   ]
  },
  {
   "cell_type": "markdown",
   "id": "00fab9d1",
   "metadata": {},
   "source": [
    "## PART 2  \n",
    "III.2."
   ]
  },
  {
   "cell_type": "code",
   "execution_count": 39,
   "id": "a209c09c",
   "metadata": {},
   "outputs": [],
   "source": [
    "#set up the metric calculations\n",
    "def CalcRSqaured(observed, estimated):\n",
    "    \"\"\"Calculate the r^2 from a series of observed and estimated target values\n",
    "    inputs:\n",
    "    Observed: Series of actual observed values\n",
    "    estimated: Series of predicted values\"\"\"\n",
    "    \n",
    "    r, p = scipy.stats.pearsonr(observed, estimated)\n",
    "    R2 = r **2\n",
    "    \n",
    "    return R2\n",
    "\n",
    "def CalcRMSE(observed, estimated):\n",
    "    \"\"\"Calculate Root Mean Square Error between a series of observed and estimated values\n",
    "    inputs:\n",
    "    Observed: Series of actual observed values\n",
    "    estimated: Series of predicted values\"\"\"\n",
    "    \n",
    "    res = (observed -estimated)**2\n",
    "    RMSE = round(sqrt(res.mean()), 3)\n",
    "    \n",
    "    return RMSE"
   ]
  },
  {
   "cell_type": "code",
   "execution_count": 40,
   "id": "5194142e",
   "metadata": {},
   "outputs": [
    {
     "data": {
      "text/html": [
       "<div>\n",
       "<style scoped>\n",
       "    .dataframe tbody tr th:only-of-type {\n",
       "        vertical-align: middle;\n",
       "    }\n",
       "\n",
       "    .dataframe tbody tr th {\n",
       "        vertical-align: top;\n",
       "    }\n",
       "\n",
       "    .dataframe thead th {\n",
       "        text-align: right;\n",
       "    }\n",
       "</style>\n",
       "<table border=\"1\" class=\"dataframe\">\n",
       "  <thead>\n",
       "    <tr style=\"text-align: right;\">\n",
       "      <th></th>\n",
       "      <th>station_origin</th>\n",
       "      <th>station_destination</th>\n",
       "      <th>flows</th>\n",
       "      <th>population</th>\n",
       "      <th>jobs</th>\n",
       "      <th>distance</th>\n",
       "    </tr>\n",
       "  </thead>\n",
       "  <tbody>\n",
       "    <tr>\n",
       "      <th>0</th>\n",
       "      <td>Abbey Road</td>\n",
       "      <td>Bank and Monument</td>\n",
       "      <td>0</td>\n",
       "      <td>599</td>\n",
       "      <td>78549</td>\n",
       "      <td>8131.525097</td>\n",
       "    </tr>\n",
       "    <tr>\n",
       "      <th>1</th>\n",
       "      <td>Abbey Road</td>\n",
       "      <td>Beckton</td>\n",
       "      <td>1</td>\n",
       "      <td>599</td>\n",
       "      <td>442</td>\n",
       "      <td>8510.121774</td>\n",
       "    </tr>\n",
       "    <tr>\n",
       "      <th>2</th>\n",
       "      <td>Abbey Road</td>\n",
       "      <td>Blackwall</td>\n",
       "      <td>3</td>\n",
       "      <td>599</td>\n",
       "      <td>665</td>\n",
       "      <td>3775.448872</td>\n",
       "    </tr>\n",
       "    <tr>\n",
       "      <th>3</th>\n",
       "      <td>Abbey Road</td>\n",
       "      <td>Canary Wharf</td>\n",
       "      <td>1</td>\n",
       "      <td>599</td>\n",
       "      <td>58772</td>\n",
       "      <td>5086.514220</td>\n",
       "    </tr>\n",
       "    <tr>\n",
       "      <th>4</th>\n",
       "      <td>Abbey Road</td>\n",
       "      <td>Canning Town</td>\n",
       "      <td>37</td>\n",
       "      <td>599</td>\n",
       "      <td>15428</td>\n",
       "      <td>2228.923167</td>\n",
       "    </tr>\n",
       "    <tr>\n",
       "      <th>...</th>\n",
       "      <td>...</td>\n",
       "      <td>...</td>\n",
       "      <td>...</td>\n",
       "      <td>...</td>\n",
       "      <td>...</td>\n",
       "      <td>...</td>\n",
       "    </tr>\n",
       "    <tr>\n",
       "      <th>61469</th>\n",
       "      <td>Woolwich Arsenal</td>\n",
       "      <td>Tower Gateway</td>\n",
       "      <td>127</td>\n",
       "      <td>7892</td>\n",
       "      <td>3342</td>\n",
       "      <td>13401.795549</td>\n",
       "    </tr>\n",
       "    <tr>\n",
       "      <th>61470</th>\n",
       "      <td>Woolwich Arsenal</td>\n",
       "      <td>West Ham</td>\n",
       "      <td>608</td>\n",
       "      <td>7892</td>\n",
       "      <td>5487</td>\n",
       "      <td>8701.454361</td>\n",
       "    </tr>\n",
       "    <tr>\n",
       "      <th>61471</th>\n",
       "      <td>Woolwich Arsenal</td>\n",
       "      <td>West India Quay</td>\n",
       "      <td>6</td>\n",
       "      <td>7892</td>\n",
       "      <td>400</td>\n",
       "      <td>9536.720451</td>\n",
       "    </tr>\n",
       "    <tr>\n",
       "      <th>61472</th>\n",
       "      <td>Woolwich Arsenal</td>\n",
       "      <td>West Silvertown</td>\n",
       "      <td>81</td>\n",
       "      <td>7892</td>\n",
       "      <td>893</td>\n",
       "      <td>5355.248554</td>\n",
       "    </tr>\n",
       "    <tr>\n",
       "      <th>61473</th>\n",
       "      <td>Woolwich Arsenal</td>\n",
       "      <td>Westferry</td>\n",
       "      <td>76</td>\n",
       "      <td>7892</td>\n",
       "      <td>1250</td>\n",
       "      <td>9958.371322</td>\n",
       "    </tr>\n",
       "  </tbody>\n",
       "</table>\n",
       "<p>61474 rows × 6 columns</p>\n",
       "</div>"
      ],
      "text/plain": [
       "         station_origin station_destination  flows  population   jobs  \\\n",
       "0            Abbey Road   Bank and Monument      0         599  78549   \n",
       "1            Abbey Road             Beckton      1         599    442   \n",
       "2            Abbey Road           Blackwall      3         599    665   \n",
       "3            Abbey Road        Canary Wharf      1         599  58772   \n",
       "4            Abbey Road        Canning Town     37         599  15428   \n",
       "...                 ...                 ...    ...         ...    ...   \n",
       "61469  Woolwich Arsenal       Tower Gateway    127        7892   3342   \n",
       "61470  Woolwich Arsenal            West Ham    608        7892   5487   \n",
       "61471  Woolwich Arsenal     West India Quay      6        7892    400   \n",
       "61472  Woolwich Arsenal     West Silvertown     81        7892    893   \n",
       "61473  Woolwich Arsenal           Westferry     76        7892   1250   \n",
       "\n",
       "           distance  \n",
       "0       8131.525097  \n",
       "1       8510.121774  \n",
       "2       3775.448872  \n",
       "3       5086.514220  \n",
       "4       2228.923167  \n",
       "...             ...  \n",
       "61469  13401.795549  \n",
       "61470   8701.454361  \n",
       "61471   9536.720451  \n",
       "61472   5355.248554  \n",
       "61473   9958.371322  \n",
       "\n",
       "[61474 rows x 6 columns]"
      ]
     },
     "execution_count": 40,
     "metadata": {},
     "output_type": "execute_result"
    }
   ],
   "source": [
    "data = pd.read_csv(\"london_flows.csv\")\n",
    "data"
   ]
  },
  {
   "cell_type": "code",
   "execution_count": 41,
   "id": "0ad8369c",
   "metadata": {},
   "outputs": [],
   "source": [
    "data=data.drop(index=data[data['distance']==0].index)\n",
    "data=data.drop(index=data[data['flows']==0].index)\n",
    "data=data.drop(index=data[data['jobs']==0].index)\n",
    "data=data.drop(index=data[data['population']==0].index)"
   ]
  },
  {
   "cell_type": "code",
   "execution_count": 42,
   "id": "10bfd38b",
   "metadata": {},
   "outputs": [],
   "source": [
    "x_variables = [\"population\", \"jobs\", \"distance\"]\n",
    "log_x_vars = []\n",
    "for x in x_variables:\n",
    "    data[f\"log_{x}\"] = np.log(data[x])\n",
    "    log_x_vars.append(f\"log_{x}\")\n"
   ]
  },
  {
   "cell_type": "code",
   "execution_count": 43,
   "id": "1967461d",
   "metadata": {},
   "outputs": [
    {
     "data": {
      "text/html": [
       "<div>\n",
       "<style scoped>\n",
       "    .dataframe tbody tr th:only-of-type {\n",
       "        vertical-align: middle;\n",
       "    }\n",
       "\n",
       "    .dataframe tbody tr th {\n",
       "        vertical-align: top;\n",
       "    }\n",
       "\n",
       "    .dataframe thead th {\n",
       "        text-align: right;\n",
       "    }\n",
       "</style>\n",
       "<table border=\"1\" class=\"dataframe\">\n",
       "  <thead>\n",
       "    <tr style=\"text-align: right;\">\n",
       "      <th></th>\n",
       "      <th>flows</th>\n",
       "      <th>population</th>\n",
       "      <th>jobs</th>\n",
       "      <th>distance</th>\n",
       "      <th>log_population</th>\n",
       "      <th>log_jobs</th>\n",
       "      <th>log_distance</th>\n",
       "    </tr>\n",
       "  </thead>\n",
       "  <tbody>\n",
       "    <tr>\n",
       "      <th>count</th>\n",
       "      <td>43945.000000</td>\n",
       "      <td>43945.000000</td>\n",
       "      <td>43945.000000</td>\n",
       "      <td>43945.000000</td>\n",
       "      <td>43945.000000</td>\n",
       "      <td>43945.000000</td>\n",
       "      <td>43945.000000</td>\n",
       "    </tr>\n",
       "    <tr>\n",
       "      <th>mean</th>\n",
       "      <td>35.095756</td>\n",
       "      <td>6197.610172</td>\n",
       "      <td>7748.471180</td>\n",
       "      <td>14646.100676</td>\n",
       "      <td>8.137378</td>\n",
       "      <td>8.088718</td>\n",
       "      <td>9.366613</td>\n",
       "    </tr>\n",
       "    <tr>\n",
       "      <th>std</th>\n",
       "      <td>154.299058</td>\n",
       "      <td>9341.954753</td>\n",
       "      <td>12186.761612</td>\n",
       "      <td>8776.994507</td>\n",
       "      <td>1.022764</td>\n",
       "      <td>1.343147</td>\n",
       "      <td>0.751299</td>\n",
       "    </tr>\n",
       "    <tr>\n",
       "      <th>min</th>\n",
       "      <td>1.000000</td>\n",
       "      <td>162.000000</td>\n",
       "      <td>42.000000</td>\n",
       "      <td>248.178706</td>\n",
       "      <td>5.087596</td>\n",
       "      <td>3.737670</td>\n",
       "      <td>5.514149</td>\n",
       "    </tr>\n",
       "    <tr>\n",
       "      <th>25%</th>\n",
       "      <td>2.000000</td>\n",
       "      <td>1741.000000</td>\n",
       "      <td>1219.000000</td>\n",
       "      <td>7831.583369</td>\n",
       "      <td>7.462215</td>\n",
       "      <td>7.105786</td>\n",
       "      <td>8.965920</td>\n",
       "    </tr>\n",
       "    <tr>\n",
       "      <th>50%</th>\n",
       "      <td>6.000000</td>\n",
       "      <td>3046.000000</td>\n",
       "      <td>3168.000000</td>\n",
       "      <td>13409.114985</td>\n",
       "      <td>8.021585</td>\n",
       "      <td>8.060856</td>\n",
       "      <td>9.503690</td>\n",
       "    </tr>\n",
       "    <tr>\n",
       "      <th>75%</th>\n",
       "      <td>23.000000</td>\n",
       "      <td>6268.000000</td>\n",
       "      <td>7932.000000</td>\n",
       "      <td>20079.611248</td>\n",
       "      <td>8.743213</td>\n",
       "      <td>8.978660</td>\n",
       "      <td>9.907460</td>\n",
       "    </tr>\n",
       "    <tr>\n",
       "      <th>max</th>\n",
       "      <td>15946.000000</td>\n",
       "      <td>67372.000000</td>\n",
       "      <td>78549.000000</td>\n",
       "      <td>60633.323742</td>\n",
       "      <td>11.117985</td>\n",
       "      <td>11.271478</td>\n",
       "      <td>11.012600</td>\n",
       "    </tr>\n",
       "  </tbody>\n",
       "</table>\n",
       "</div>"
      ],
      "text/plain": [
       "              flows    population          jobs      distance  log_population  \\\n",
       "count  43945.000000  43945.000000  43945.000000  43945.000000    43945.000000   \n",
       "mean      35.095756   6197.610172   7748.471180  14646.100676        8.137378   \n",
       "std      154.299058   9341.954753  12186.761612   8776.994507        1.022764   \n",
       "min        1.000000    162.000000     42.000000    248.178706        5.087596   \n",
       "25%        2.000000   1741.000000   1219.000000   7831.583369        7.462215   \n",
       "50%        6.000000   3046.000000   3168.000000  13409.114985        8.021585   \n",
       "75%       23.000000   6268.000000   7932.000000  20079.611248        8.743213   \n",
       "max    15946.000000  67372.000000  78549.000000  60633.323742       11.117985   \n",
       "\n",
       "           log_jobs  log_distance  \n",
       "count  43945.000000  43945.000000  \n",
       "mean       8.088718      9.366613  \n",
       "std        1.343147      0.751299  \n",
       "min        3.737670      5.514149  \n",
       "25%        7.105786      8.965920  \n",
       "50%        8.060856      9.503690  \n",
       "75%        8.978660      9.907460  \n",
       "max       11.271478     11.012600  "
      ]
     },
     "execution_count": 43,
     "metadata": {},
     "output_type": "execute_result"
    }
   ],
   "source": [
    "data.describe()"
   ]
  },
  {
   "cell_type": "code",
   "execution_count": 44,
   "id": "85fad4c0",
   "metadata": {},
   "outputs": [
    {
     "name": "stdout",
     "output_type": "stream",
     "text": [
      "                 Generalized Linear Model Regression Results                  \n",
      "==============================================================================\n",
      "Dep. Variable:                  flows   No. Observations:                43945\n",
      "Model:                            GLM   Df Residuals:                    43941\n",
      "Model Family:                 Poisson   Df Model:                            3\n",
      "Link Function:                    log   Scale:                          1.0000\n",
      "Method:                          IRLS   Log-Likelihood:            -1.1675e+06\n",
      "Date:                Mon, 02 May 2022   Deviance:                   2.1627e+06\n",
      "Time:                        15:10:41   Pearson chi2:                 4.13e+06\n",
      "No. Iterations:                     6                                         \n",
      "Covariance Type:            nonrobust                                         \n",
      "==================================================================================\n",
      "                     coef    std err          z      P>|z|      [0.025      0.975]\n",
      "----------------------------------------------------------------------------------\n",
      "Intercept         -3.0646      0.014   -223.280      0.000      -3.092      -3.038\n",
      "log_population     0.6973      0.001    987.428      0.000       0.696       0.699\n",
      "log_jobs           0.7037      0.001   1054.578      0.000       0.702       0.705\n",
      "log_distance      -0.5961      0.001   -647.450      0.000      -0.598      -0.594\n",
      "==================================================================================\n"
     ]
    }
   ],
   "source": [
    "#uncosim\n",
    "formula = 'flows ~ log_population + log_jobs + log_distance'\n",
    "\n",
    "#run the regression\n",
    "uncosim = smf.glm(formula = formula, \n",
    "                  data=data, \n",
    "                  family=sm.families.Poisson()).fit()\n",
    "print(uncosim.summary())"
   ]
  },
  {
   "cell_type": "code",
   "execution_count": 45,
   "id": "3832186d",
   "metadata": {},
   "outputs": [],
   "source": [
    "#first assign the parameter values from the model to the appropriate variables\n",
    "K = uncosim.params[0]\n",
    "alpha = uncosim.params[1]\n",
    "gamma = uncosim.params[2]\n",
    "beta = -uncosim.params[3]\n",
    "\n",
    "#now plug everything back into the Equation 6 model ... \n",
    "#be careful with the negative signing of the parameter beta\n",
    "data[\"unconstrainedEst\"] = np.exp(K + alpha*data[\"log_population\"] + gamma*data[\"log_jobs\"] - beta*data[\"log_distance\"])"
   ]
  },
  {
   "cell_type": "code",
   "execution_count": 46,
   "id": "c2ccd082",
   "metadata": {},
   "outputs": [
    {
     "data": {
      "text/plain": [
       "0.31141075618820413"
      ]
     },
     "execution_count": 46,
     "metadata": {},
     "output_type": "execute_result"
    }
   ],
   "source": [
    "CalcRSqaured(data[\"flows\"], data[\"unconstrainedEst\"])"
   ]
  },
  {
   "cell_type": "code",
   "execution_count": 47,
   "id": "58803caf",
   "metadata": {},
   "outputs": [
    {
     "data": {
      "text/plain": [
       "128.176"
      ]
     },
     "execution_count": 47,
     "metadata": {},
     "output_type": "execute_result"
    }
   ],
   "source": [
    "CalcRMSE(data[\"flows\"],data[\"unconstrainedEst\"])"
   ]
  },
  {
   "cell_type": "markdown",
   "id": "4cec21fb",
   "metadata": {},
   "source": [
    "IV.1. Scenario A"
   ]
  },
  {
   "cell_type": "code",
   "execution_count": 48,
   "id": "65cb4199",
   "metadata": {},
   "outputs": [],
   "source": [
    "#Production-constrained Model\n",
    "formula = 'flows ~ station_origin + log_jobs + log_distance-1'\n",
    "\n",
    "#run the regression\n",
    "prodSim = smf.glm(formula = formula, \n",
    "                  data=data, \n",
    "                  family=sm.families.Poisson()).fit()\n"
   ]
  },
  {
   "cell_type": "code",
   "execution_count": 49,
   "id": "fd33ac57",
   "metadata": {
    "scrolled": true
   },
   "outputs": [
    {
     "name": "stderr",
     "output_type": "stream",
     "text": [
      "/tmp/ipykernel_231/3190191214.py:6: FutureWarning: The default value of regex will change from True to False in a future version.\n",
      "  coefs[\"coef\"] = coefs[\"coef\"].str.replace(x, \"\")\n"
     ]
    },
    {
     "data": {
      "text/html": [
       "<div>\n",
       "<style scoped>\n",
       "    .dataframe tbody tr th:only-of-type {\n",
       "        vertical-align: middle;\n",
       "    }\n",
       "\n",
       "    .dataframe tbody tr th {\n",
       "        vertical-align: top;\n",
       "    }\n",
       "\n",
       "    .dataframe thead th {\n",
       "        text-align: right;\n",
       "    }\n",
       "</style>\n",
       "<table border=\"1\" class=\"dataframe\">\n",
       "  <thead>\n",
       "    <tr style=\"text-align: right;\">\n",
       "      <th></th>\n",
       "      <th>station_origin</th>\n",
       "      <th>station_destination</th>\n",
       "      <th>flows</th>\n",
       "      <th>population</th>\n",
       "      <th>jobs</th>\n",
       "      <th>distance</th>\n",
       "      <th>log_population</th>\n",
       "      <th>log_jobs</th>\n",
       "      <th>log_distance</th>\n",
       "      <th>unconstrainedEst</th>\n",
       "      <th>alpha_i</th>\n",
       "    </tr>\n",
       "  </thead>\n",
       "  <tbody>\n",
       "    <tr>\n",
       "      <th>0</th>\n",
       "      <td>Abbey Road</td>\n",
       "      <td>Beckton</td>\n",
       "      <td>1</td>\n",
       "      <td>599</td>\n",
       "      <td>442</td>\n",
       "      <td>8510.121774</td>\n",
       "      <td>6.395262</td>\n",
       "      <td>6.091310</td>\n",
       "      <td>9.049012</td>\n",
       "      <td>1.331852</td>\n",
       "      <td>3.270351</td>\n",
       "    </tr>\n",
       "    <tr>\n",
       "      <th>1</th>\n",
       "      <td>Abbey Road</td>\n",
       "      <td>Blackwall</td>\n",
       "      <td>3</td>\n",
       "      <td>599</td>\n",
       "      <td>665</td>\n",
       "      <td>3775.448872</td>\n",
       "      <td>6.395262</td>\n",
       "      <td>6.499787</td>\n",
       "      <td>8.236275</td>\n",
       "      <td>2.882125</td>\n",
       "      <td>3.270351</td>\n",
       "    </tr>\n",
       "    <tr>\n",
       "      <th>2</th>\n",
       "      <td>Abbey Road</td>\n",
       "      <td>Canary Wharf</td>\n",
       "      <td>1</td>\n",
       "      <td>599</td>\n",
       "      <td>58772</td>\n",
       "      <td>5086.514220</td>\n",
       "      <td>6.395262</td>\n",
       "      <td>10.981421</td>\n",
       "      <td>8.534348</td>\n",
       "      <td>56.518643</td>\n",
       "      <td>3.270351</td>\n",
       "    </tr>\n",
       "    <tr>\n",
       "      <th>3</th>\n",
       "      <td>Abbey Road</td>\n",
       "      <td>Canning Town</td>\n",
       "      <td>37</td>\n",
       "      <td>599</td>\n",
       "      <td>15428</td>\n",
       "      <td>2228.923167</td>\n",
       "      <td>6.395262</td>\n",
       "      <td>9.643939</td>\n",
       "      <td>7.709274</td>\n",
       "      <td>36.062256</td>\n",
       "      <td>3.270351</td>\n",
       "    </tr>\n",
       "    <tr>\n",
       "      <th>4</th>\n",
       "      <td>Abbey Road</td>\n",
       "      <td>Crossharbour</td>\n",
       "      <td>1</td>\n",
       "      <td>599</td>\n",
       "      <td>1208</td>\n",
       "      <td>6686.475560</td>\n",
       "      <td>6.395262</td>\n",
       "      <td>7.096721</td>\n",
       "      <td>8.807842</td>\n",
       "      <td>3.120065</td>\n",
       "      <td>3.270351</td>\n",
       "    </tr>\n",
       "  </tbody>\n",
       "</table>\n",
       "</div>"
      ],
      "text/plain": [
       "  station_origin station_destination  flows  population   jobs     distance  \\\n",
       "0     Abbey Road             Beckton      1         599    442  8510.121774   \n",
       "1     Abbey Road           Blackwall      3         599    665  3775.448872   \n",
       "2     Abbey Road        Canary Wharf      1         599  58772  5086.514220   \n",
       "3     Abbey Road        Canning Town     37         599  15428  2228.923167   \n",
       "4     Abbey Road        Crossharbour      1         599   1208  6686.475560   \n",
       "\n",
       "   log_population   log_jobs  log_distance  unconstrainedEst   alpha_i  \n",
       "0        6.395262   6.091310      9.049012          1.331852  3.270351  \n",
       "1        6.395262   6.499787      8.236275          2.882125  3.270351  \n",
       "2        6.395262  10.981421      8.534348         56.518643  3.270351  \n",
       "3        6.395262   9.643939      7.709274         36.062256  3.270351  \n",
       "4        6.395262   7.096721      8.807842          3.120065  3.270351  "
      ]
     },
     "execution_count": 49,
     "metadata": {},
     "output_type": "execute_result"
    }
   ],
   "source": [
    "coefs = pd.DataFrame(prodSim.params)\n",
    "coefs.reset_index(inplace=True)\n",
    "coefs.rename(columns = {0:\"alpha_i\", \"index\":\"coef\"}, inplace = True)\n",
    "to_repl = [\"(station_origin)\", \"\\[\", \"\\]\"]\n",
    "for x in to_repl:\n",
    "    coefs[\"coef\"] = coefs[\"coef\"].str.replace(x, \"\")\n",
    "#then once you have done this you can join them back into the dataframes\n",
    "data = data.merge(coefs, left_on=\"station_origin\", right_on=\"coef\", how = \"left\")\n",
    "data.drop(columns = [\"coef\"], inplace = True)\n",
    "#check this has worked\n",
    "\n",
    "gamma = prodSim.params[-2]\n",
    "beta = -prodSim.params[-1]\n",
    "data.head()"
   ]
  },
  {
   "cell_type": "code",
   "execution_count": 50,
   "id": "76330179",
   "metadata": {},
   "outputs": [],
   "source": [
    "data[\"prodsimest1\"] = np.exp(data[\"alpha_i\"]+gamma*data[\"log_jobs\"] - beta*data[\"log_distance\"])"
   ]
  },
  {
   "cell_type": "code",
   "execution_count": 51,
   "id": "6aae131f",
   "metadata": {},
   "outputs": [],
   "source": [
    "# Scenario A\n",
    "def Scenario_A(row):\n",
    "    if row[\"station_destination\"] == \"Canary Wharf\":\n",
    "        val = round(row['jobs']*0.5,0)\n",
    "    else:\n",
    "        val = row['jobs']\n",
    "    return val\n",
    "        \n",
    "data[\"job_Scenario_A\"] = data.apply(Scenario_A, axis =1)"
   ]
  },
  {
   "cell_type": "code",
   "execution_count": 52,
   "id": "e8a9eefe",
   "metadata": {},
   "outputs": [],
   "source": [
    "job_gamma = data[\"jobs\"]**gamma\n",
    "dist_beta = data[\"distance\"]**beta\n",
    "#calcualte the first stage of the Ai values\n",
    "data[\"Ai1\"] = job_gamma * dist_beta\n",
    "#now do the sum over all js bit\n",
    "A_i = pd.DataFrame(data.groupby([\"station_origin\"])[\"Ai1\"].agg(np.sum))\n",
    "#now divide into 1\n",
    "A_i[\"Ai1\"] = 1/A_i[\"Ai1\"]\n",
    "A_i.rename(columns={\"Ai1\":\"A_i\"}, inplace=True)\n",
    "#and write the A_i values back into the dataframe\n",
    "data = data.merge(A_i, left_on=\"station_origin\", right_index=True, how=\"left\")"
   ]
  },
  {
   "cell_type": "code",
   "execution_count": 85,
   "id": "3bbaecad",
   "metadata": {},
   "outputs": [
    {
     "ename": "KeyError",
     "evalue": "'O_i'",
     "output_type": "error",
     "traceback": [
      "\u001b[0;31m---------------------------------------------------------------------------\u001b[0m",
      "\u001b[0;31mKeyError\u001b[0m                                  Traceback (most recent call last)",
      "\u001b[0;32m/opt/conda/envs/sds2021/lib/python3.9/site-packages/pandas/core/indexes/base.py\u001b[0m in \u001b[0;36mget_loc\u001b[0;34m(self, key, method, tolerance)\u001b[0m\n\u001b[1;32m   3360\u001b[0m             \u001b[0;32mtry\u001b[0m\u001b[0;34m:\u001b[0m\u001b[0;34m\u001b[0m\u001b[0;34m\u001b[0m\u001b[0m\n\u001b[0;32m-> 3361\u001b[0;31m                 \u001b[0;32mreturn\u001b[0m \u001b[0mself\u001b[0m\u001b[0;34m.\u001b[0m\u001b[0m_engine\u001b[0m\u001b[0;34m.\u001b[0m\u001b[0mget_loc\u001b[0m\u001b[0;34m(\u001b[0m\u001b[0mcasted_key\u001b[0m\u001b[0;34m)\u001b[0m\u001b[0;34m\u001b[0m\u001b[0;34m\u001b[0m\u001b[0m\n\u001b[0m\u001b[1;32m   3362\u001b[0m             \u001b[0;32mexcept\u001b[0m \u001b[0mKeyError\u001b[0m \u001b[0;32mas\u001b[0m \u001b[0merr\u001b[0m\u001b[0;34m:\u001b[0m\u001b[0;34m\u001b[0m\u001b[0;34m\u001b[0m\u001b[0m\n",
      "\u001b[0;32m/opt/conda/envs/sds2021/lib/python3.9/site-packages/pandas/_libs/index.pyx\u001b[0m in \u001b[0;36mpandas._libs.index.IndexEngine.get_loc\u001b[0;34m()\u001b[0m\n",
      "\u001b[0;32m/opt/conda/envs/sds2021/lib/python3.9/site-packages/pandas/_libs/index.pyx\u001b[0m in \u001b[0;36mpandas._libs.index.IndexEngine.get_loc\u001b[0;34m()\u001b[0m\n",
      "\u001b[0;32mpandas/_libs/hashtable_class_helper.pxi\u001b[0m in \u001b[0;36mpandas._libs.hashtable.PyObjectHashTable.get_item\u001b[0;34m()\u001b[0m\n",
      "\u001b[0;32mpandas/_libs/hashtable_class_helper.pxi\u001b[0m in \u001b[0;36mpandas._libs.hashtable.PyObjectHashTable.get_item\u001b[0;34m()\u001b[0m\n",
      "\u001b[0;31mKeyError\u001b[0m: 'O_i'",
      "\nThe above exception was the direct cause of the following exception:\n",
      "\u001b[0;31mKeyError\u001b[0m                                  Traceback (most recent call last)",
      "\u001b[0;32m/tmp/ipykernel_231/3303072623.py\u001b[0m in \u001b[0;36m<module>\u001b[0;34m\u001b[0m\n\u001b[1;32m      5\u001b[0m \u001b[0mD_j\u001b[0m\u001b[0;34m.\u001b[0m\u001b[0mrename\u001b[0m\u001b[0;34m(\u001b[0m\u001b[0mcolumns\u001b[0m\u001b[0;34m=\u001b[0m\u001b[0;34m{\u001b[0m\u001b[0;34m\"flows\"\u001b[0m\u001b[0;34m:\u001b[0m\u001b[0;34m\"D_j\"\u001b[0m\u001b[0;34m}\u001b[0m\u001b[0;34m,\u001b[0m \u001b[0minplace\u001b[0m \u001b[0;34m=\u001b[0m \u001b[0;32mTrue\u001b[0m\u001b[0;34m)\u001b[0m\u001b[0;34m\u001b[0m\u001b[0;34m\u001b[0m\u001b[0m\n\u001b[1;32m      6\u001b[0m \u001b[0mdata\u001b[0m \u001b[0;34m=\u001b[0m \u001b[0mdata\u001b[0m\u001b[0;34m.\u001b[0m\u001b[0mmerge\u001b[0m\u001b[0;34m(\u001b[0m\u001b[0mD_j\u001b[0m\u001b[0;34m,\u001b[0m \u001b[0mon\u001b[0m \u001b[0;34m=\u001b[0m \u001b[0;34m\"station_destination\"\u001b[0m\u001b[0;34m,\u001b[0m \u001b[0mhow\u001b[0m \u001b[0;34m=\u001b[0m \u001b[0;34m\"left\"\u001b[0m \u001b[0;34m)\u001b[0m\u001b[0;34m\u001b[0m\u001b[0;34m\u001b[0m\u001b[0m\n\u001b[0;32m----> 7\u001b[0;31m \u001b[0mdata\u001b[0m\u001b[0;34m[\u001b[0m\u001b[0;34m\"ScenarioA\"\u001b[0m\u001b[0;34m]\u001b[0m \u001b[0;34m=\u001b[0m \u001b[0mdata\u001b[0m\u001b[0;34m[\u001b[0m\u001b[0;34m\"A_i\"\u001b[0m\u001b[0;34m]\u001b[0m\u001b[0;34m*\u001b[0m\u001b[0mdata\u001b[0m\u001b[0;34m[\u001b[0m\u001b[0;34m\"O_i\"\u001b[0m\u001b[0;34m]\u001b[0m\u001b[0;34m*\u001b[0m\u001b[0mjob_gamma\u001b[0m\u001b[0;34m*\u001b[0m\u001b[0mdist_beta\u001b[0m\u001b[0;34m\u001b[0m\u001b[0;34m\u001b[0m\u001b[0m\n\u001b[0m\u001b[1;32m      8\u001b[0m \u001b[0mdata\u001b[0m\u001b[0;34m[\u001b[0m\u001b[0;34m\"ScenarioA\"\u001b[0m\u001b[0;34m]\u001b[0m\u001b[0;34m=\u001b[0m\u001b[0mround\u001b[0m\u001b[0;34m(\u001b[0m\u001b[0mdata\u001b[0m\u001b[0;34m[\u001b[0m\u001b[0;34m\"ScenarioA\"\u001b[0m\u001b[0;34m]\u001b[0m\u001b[0;34m,\u001b[0m\u001b[0;36m0\u001b[0m\u001b[0;34m)\u001b[0m\u001b[0;34m\u001b[0m\u001b[0;34m\u001b[0m\u001b[0m\n",
      "\u001b[0;32m/opt/conda/envs/sds2021/lib/python3.9/site-packages/pandas/core/frame.py\u001b[0m in \u001b[0;36m__getitem__\u001b[0;34m(self, key)\u001b[0m\n\u001b[1;32m   3453\u001b[0m             \u001b[0;32mif\u001b[0m \u001b[0mself\u001b[0m\u001b[0;34m.\u001b[0m\u001b[0mcolumns\u001b[0m\u001b[0;34m.\u001b[0m\u001b[0mnlevels\u001b[0m \u001b[0;34m>\u001b[0m \u001b[0;36m1\u001b[0m\u001b[0;34m:\u001b[0m\u001b[0;34m\u001b[0m\u001b[0;34m\u001b[0m\u001b[0m\n\u001b[1;32m   3454\u001b[0m                 \u001b[0;32mreturn\u001b[0m \u001b[0mself\u001b[0m\u001b[0;34m.\u001b[0m\u001b[0m_getitem_multilevel\u001b[0m\u001b[0;34m(\u001b[0m\u001b[0mkey\u001b[0m\u001b[0;34m)\u001b[0m\u001b[0;34m\u001b[0m\u001b[0;34m\u001b[0m\u001b[0m\n\u001b[0;32m-> 3455\u001b[0;31m             \u001b[0mindexer\u001b[0m \u001b[0;34m=\u001b[0m \u001b[0mself\u001b[0m\u001b[0;34m.\u001b[0m\u001b[0mcolumns\u001b[0m\u001b[0;34m.\u001b[0m\u001b[0mget_loc\u001b[0m\u001b[0;34m(\u001b[0m\u001b[0mkey\u001b[0m\u001b[0;34m)\u001b[0m\u001b[0;34m\u001b[0m\u001b[0;34m\u001b[0m\u001b[0m\n\u001b[0m\u001b[1;32m   3456\u001b[0m             \u001b[0;32mif\u001b[0m \u001b[0mis_integer\u001b[0m\u001b[0;34m(\u001b[0m\u001b[0mindexer\u001b[0m\u001b[0;34m)\u001b[0m\u001b[0;34m:\u001b[0m\u001b[0;34m\u001b[0m\u001b[0;34m\u001b[0m\u001b[0m\n\u001b[1;32m   3457\u001b[0m                 \u001b[0mindexer\u001b[0m \u001b[0;34m=\u001b[0m \u001b[0;34m[\u001b[0m\u001b[0mindexer\u001b[0m\u001b[0;34m]\u001b[0m\u001b[0;34m\u001b[0m\u001b[0;34m\u001b[0m\u001b[0m\n",
      "\u001b[0;32m/opt/conda/envs/sds2021/lib/python3.9/site-packages/pandas/core/indexes/base.py\u001b[0m in \u001b[0;36mget_loc\u001b[0;34m(self, key, method, tolerance)\u001b[0m\n\u001b[1;32m   3361\u001b[0m                 \u001b[0;32mreturn\u001b[0m \u001b[0mself\u001b[0m\u001b[0;34m.\u001b[0m\u001b[0m_engine\u001b[0m\u001b[0;34m.\u001b[0m\u001b[0mget_loc\u001b[0m\u001b[0;34m(\u001b[0m\u001b[0mcasted_key\u001b[0m\u001b[0;34m)\u001b[0m\u001b[0;34m\u001b[0m\u001b[0;34m\u001b[0m\u001b[0m\n\u001b[1;32m   3362\u001b[0m             \u001b[0;32mexcept\u001b[0m \u001b[0mKeyError\u001b[0m \u001b[0;32mas\u001b[0m \u001b[0merr\u001b[0m\u001b[0;34m:\u001b[0m\u001b[0;34m\u001b[0m\u001b[0;34m\u001b[0m\u001b[0m\n\u001b[0;32m-> 3363\u001b[0;31m                 \u001b[0;32mraise\u001b[0m \u001b[0mKeyError\u001b[0m\u001b[0;34m(\u001b[0m\u001b[0mkey\u001b[0m\u001b[0;34m)\u001b[0m \u001b[0;32mfrom\u001b[0m \u001b[0merr\u001b[0m\u001b[0;34m\u001b[0m\u001b[0;34m\u001b[0m\u001b[0m\n\u001b[0m\u001b[1;32m   3364\u001b[0m \u001b[0;34m\u001b[0m\u001b[0m\n\u001b[1;32m   3365\u001b[0m         \u001b[0;32mif\u001b[0m \u001b[0mis_scalar\u001b[0m\u001b[0;34m(\u001b[0m\u001b[0mkey\u001b[0m\u001b[0;34m)\u001b[0m \u001b[0;32mand\u001b[0m \u001b[0misna\u001b[0m\u001b[0;34m(\u001b[0m\u001b[0mkey\u001b[0m\u001b[0;34m)\u001b[0m \u001b[0;32mand\u001b[0m \u001b[0;32mnot\u001b[0m \u001b[0mself\u001b[0m\u001b[0;34m.\u001b[0m\u001b[0mhasnans\u001b[0m\u001b[0;34m:\u001b[0m\u001b[0;34m\u001b[0m\u001b[0;34m\u001b[0m\u001b[0m\n",
      "\u001b[0;31mKeyError\u001b[0m: 'O_i'"
     ]
    }
   ],
   "source": [
    "O_i = pd.DataFrame(data.groupby([\"station_origin\"])[\"flows\"].agg(np.sum))\n",
    "O_i.rename(columns={\"flows\":\"O_i\"}, inplace = True)\n",
    "data = data.merge(O_i, on = \"station_origin\", how = \"left\" )\n",
    "D_j = pd.DataFrame(data.groupby([\"station_destination\"])[\"flows\"].agg(np.sum))\n",
    "D_j.rename(columns={\"flows\":\"D_j\"}, inplace = True)\n",
    "data = data.merge(D_j, on = \"station_destination\", how = \"left\" )\n",
    "data[\"ScenarioA\"] = data[\"A_i\"]*data[\"O_i\"]*job_gamma*dist_beta\n"
   ]
  },
  {
   "cell_type": "code",
   "execution_count": 54,
   "id": "750941d3",
   "metadata": {},
   "outputs": [
    {
     "data": {
      "text/html": [
       "<div>\n",
       "<style scoped>\n",
       "    .dataframe tbody tr th:only-of-type {\n",
       "        vertical-align: middle;\n",
       "    }\n",
       "\n",
       "    .dataframe tbody tr th {\n",
       "        vertical-align: top;\n",
       "    }\n",
       "\n",
       "    .dataframe thead th {\n",
       "        text-align: right;\n",
       "    }\n",
       "</style>\n",
       "<table border=\"1\" class=\"dataframe\">\n",
       "  <thead>\n",
       "    <tr style=\"text-align: right;\">\n",
       "      <th></th>\n",
       "      <th>station_origin</th>\n",
       "      <th>station_destination</th>\n",
       "      <th>flows</th>\n",
       "      <th>population</th>\n",
       "      <th>jobs</th>\n",
       "      <th>distance</th>\n",
       "      <th>log_population</th>\n",
       "      <th>log_jobs</th>\n",
       "      <th>log_distance</th>\n",
       "      <th>unconstrainedEst</th>\n",
       "      <th>alpha_i</th>\n",
       "      <th>prodsimest1</th>\n",
       "      <th>job_Scenario_A</th>\n",
       "      <th>Ai1</th>\n",
       "      <th>A_i</th>\n",
       "      <th>O_i</th>\n",
       "      <th>D_j</th>\n",
       "      <th>ScenarioA</th>\n",
       "    </tr>\n",
       "  </thead>\n",
       "  <tbody>\n",
       "    <tr>\n",
       "      <th>0</th>\n",
       "      <td>Abbey Road</td>\n",
       "      <td>Beckton</td>\n",
       "      <td>1</td>\n",
       "      <td>599</td>\n",
       "      <td>442</td>\n",
       "      <td>8510.121774</td>\n",
       "      <td>6.395262</td>\n",
       "      <td>6.091310</td>\n",
       "      <td>9.049012</td>\n",
       "      <td>1.331852</td>\n",
       "      <td>3.270351</td>\n",
       "      <td>1.406918</td>\n",
       "      <td>442.0</td>\n",
       "      <td>1.365344e+05</td>\n",
       "      <td>9.456490e-08</td>\n",
       "      <td>599</td>\n",
       "      <td>442</td>\n",
       "      <td>7.733907</td>\n",
       "    </tr>\n",
       "    <tr>\n",
       "      <th>1</th>\n",
       "      <td>Abbey Road</td>\n",
       "      <td>Blackwall</td>\n",
       "      <td>3</td>\n",
       "      <td>599</td>\n",
       "      <td>665</td>\n",
       "      <td>3775.448872</td>\n",
       "      <td>6.395262</td>\n",
       "      <td>6.499787</td>\n",
       "      <td>8.236275</td>\n",
       "      <td>2.882125</td>\n",
       "      <td>3.270351</td>\n",
       "      <td>3.677350</td>\n",
       "      <td>665.0</td>\n",
       "      <td>9.485046e+04</td>\n",
       "      <td>9.456490e-08</td>\n",
       "      <td>599</td>\n",
       "      <td>665</td>\n",
       "      <td>5.372745</td>\n",
       "    </tr>\n",
       "    <tr>\n",
       "      <th>2</th>\n",
       "      <td>Abbey Road</td>\n",
       "      <td>Canary Wharf</td>\n",
       "      <td>1</td>\n",
       "      <td>599</td>\n",
       "      <td>58772</td>\n",
       "      <td>5086.514220</td>\n",
       "      <td>6.395262</td>\n",
       "      <td>10.981421</td>\n",
       "      <td>8.534348</td>\n",
       "      <td>56.518643</td>\n",
       "      <td>3.270351</td>\n",
       "      <td>76.062924</td>\n",
       "      <td>29386.0</td>\n",
       "      <td>3.189570e+06</td>\n",
       "      <td>9.456490e-08</td>\n",
       "      <td>599</td>\n",
       "      <td>58772</td>\n",
       "      <td>180.671211</td>\n",
       "    </tr>\n",
       "    <tr>\n",
       "      <th>3</th>\n",
       "      <td>Abbey Road</td>\n",
       "      <td>Canning Town</td>\n",
       "      <td>37</td>\n",
       "      <td>599</td>\n",
       "      <td>15428</td>\n",
       "      <td>2228.923167</td>\n",
       "      <td>6.395262</td>\n",
       "      <td>9.643939</td>\n",
       "      <td>7.709274</td>\n",
       "      <td>36.062256</td>\n",
       "      <td>3.270351</td>\n",
       "      <td>56.123931</td>\n",
       "      <td>15428.0</td>\n",
       "      <td>6.130599e+05</td>\n",
       "      <td>9.456490e-08</td>\n",
       "      <td>599</td>\n",
       "      <td>15428</td>\n",
       "      <td>34.726392</td>\n",
       "    </tr>\n",
       "    <tr>\n",
       "      <th>4</th>\n",
       "      <td>Abbey Road</td>\n",
       "      <td>Crossharbour</td>\n",
       "      <td>1</td>\n",
       "      <td>599</td>\n",
       "      <td>1208</td>\n",
       "      <td>6686.475560</td>\n",
       "      <td>6.395262</td>\n",
       "      <td>7.096721</td>\n",
       "      <td>8.807842</td>\n",
       "      <td>3.120065</td>\n",
       "      <td>3.270351</td>\n",
       "      <td>3.568414</td>\n",
       "      <td>1208.0</td>\n",
       "      <td>2.337144e+05</td>\n",
       "      <td>9.456490e-08</td>\n",
       "      <td>599</td>\n",
       "      <td>1208</td>\n",
       "      <td>13.238605</td>\n",
       "    </tr>\n",
       "    <tr>\n",
       "      <th>...</th>\n",
       "      <td>...</td>\n",
       "      <td>...</td>\n",
       "      <td>...</td>\n",
       "      <td>...</td>\n",
       "      <td>...</td>\n",
       "      <td>...</td>\n",
       "      <td>...</td>\n",
       "      <td>...</td>\n",
       "      <td>...</td>\n",
       "      <td>...</td>\n",
       "      <td>...</td>\n",
       "      <td>...</td>\n",
       "      <td>...</td>\n",
       "      <td>...</td>\n",
       "      <td>...</td>\n",
       "      <td>...</td>\n",
       "      <td>...</td>\n",
       "      <td>...</td>\n",
       "    </tr>\n",
       "    <tr>\n",
       "      <th>43940</th>\n",
       "      <td>Woolwich Arsenal</td>\n",
       "      <td>Tower Gateway</td>\n",
       "      <td>127</td>\n",
       "      <td>7892</td>\n",
       "      <td>3342</td>\n",
       "      <td>13401.795549</td>\n",
       "      <td>8.973605</td>\n",
       "      <td>8.114325</td>\n",
       "      <td>9.503144</td>\n",
       "      <td>25.463983</td>\n",
       "      <td>6.701868</td>\n",
       "      <td>131.612217</td>\n",
       "      <td>3342.0</td>\n",
       "      <td>8.660342e+05</td>\n",
       "      <td>2.957584e-08</td>\n",
       "      <td>7892</td>\n",
       "      <td>3342</td>\n",
       "      <td>202.143241</td>\n",
       "    </tr>\n",
       "    <tr>\n",
       "      <th>43941</th>\n",
       "      <td>Woolwich Arsenal</td>\n",
       "      <td>West Ham</td>\n",
       "      <td>608</td>\n",
       "      <td>7892</td>\n",
       "      <td>5487</td>\n",
       "      <td>8701.454361</td>\n",
       "      <td>8.973605</td>\n",
       "      <td>8.610137</td>\n",
       "      <td>9.071245</td>\n",
       "      <td>46.695352</td>\n",
       "      <td>6.701868</td>\n",
       "      <td>268.799374</td>\n",
       "      <td>5487.0</td>\n",
       "      <td>8.746933e+05</td>\n",
       "      <td>2.957584e-08</td>\n",
       "      <td>7892</td>\n",
       "      <td>5487</td>\n",
       "      <td>204.164386</td>\n",
       "    </tr>\n",
       "    <tr>\n",
       "      <th>43942</th>\n",
       "      <td>Woolwich Arsenal</td>\n",
       "      <td>West India Quay</td>\n",
       "      <td>6</td>\n",
       "      <td>7892</td>\n",
       "      <td>400</td>\n",
       "      <td>9536.720451</td>\n",
       "      <td>8.973605</td>\n",
       "      <td>5.991465</td>\n",
       "      <td>9.162905</td>\n",
       "      <td>7.002274</td>\n",
       "      <td>6.701868</td>\n",
       "      <td>36.861579</td>\n",
       "      <td>400.0</td>\n",
       "      <td>1.392843e+05</td>\n",
       "      <td>2.957584e-08</td>\n",
       "      <td>7892</td>\n",
       "      <td>400</td>\n",
       "      <td>32.510702</td>\n",
       "    </tr>\n",
       "    <tr>\n",
       "      <th>43943</th>\n",
       "      <td>Woolwich Arsenal</td>\n",
       "      <td>West Silvertown</td>\n",
       "      <td>81</td>\n",
       "      <td>7892</td>\n",
       "      <td>893</td>\n",
       "      <td>5355.248554</td>\n",
       "      <td>8.973605</td>\n",
       "      <td>6.794587</td>\n",
       "      <td>8.585832</td>\n",
       "      <td>17.381639</td>\n",
       "      <td>6.701868</td>\n",
       "      <td>106.060284</td>\n",
       "      <td>893.0</td>\n",
       "      <td>1.564146e+05</td>\n",
       "      <td>2.957584e-08</td>\n",
       "      <td>7892</td>\n",
       "      <td>893</td>\n",
       "      <td>36.509138</td>\n",
       "    </tr>\n",
       "    <tr>\n",
       "      <th>43944</th>\n",
       "      <td>Woolwich Arsenal</td>\n",
       "      <td>Westferry</td>\n",
       "      <td>76</td>\n",
       "      <td>7892</td>\n",
       "      <td>1250</td>\n",
       "      <td>9958.371322</td>\n",
       "      <td>8.973605</td>\n",
       "      <td>7.130899</td>\n",
       "      <td>9.206169</td>\n",
       "      <td>15.214766</td>\n",
       "      <td>6.701868</td>\n",
       "      <td>81.767698</td>\n",
       "      <td>1250.0</td>\n",
       "      <td>3.315458e+05</td>\n",
       "      <td>2.957584e-08</td>\n",
       "      <td>7892</td>\n",
       "      <td>1250</td>\n",
       "      <td>77.386948</td>\n",
       "    </tr>\n",
       "  </tbody>\n",
       "</table>\n",
       "<p>43945 rows × 18 columns</p>\n",
       "</div>"
      ],
      "text/plain": [
       "         station_origin station_destination  flows  population   jobs  \\\n",
       "0            Abbey Road             Beckton      1         599    442   \n",
       "1            Abbey Road           Blackwall      3         599    665   \n",
       "2            Abbey Road        Canary Wharf      1         599  58772   \n",
       "3            Abbey Road        Canning Town     37         599  15428   \n",
       "4            Abbey Road        Crossharbour      1         599   1208   \n",
       "...                 ...                 ...    ...         ...    ...   \n",
       "43940  Woolwich Arsenal       Tower Gateway    127        7892   3342   \n",
       "43941  Woolwich Arsenal            West Ham    608        7892   5487   \n",
       "43942  Woolwich Arsenal     West India Quay      6        7892    400   \n",
       "43943  Woolwich Arsenal     West Silvertown     81        7892    893   \n",
       "43944  Woolwich Arsenal           Westferry     76        7892   1250   \n",
       "\n",
       "           distance  log_population   log_jobs  log_distance  \\\n",
       "0       8510.121774        6.395262   6.091310      9.049012   \n",
       "1       3775.448872        6.395262   6.499787      8.236275   \n",
       "2       5086.514220        6.395262  10.981421      8.534348   \n",
       "3       2228.923167        6.395262   9.643939      7.709274   \n",
       "4       6686.475560        6.395262   7.096721      8.807842   \n",
       "...             ...             ...        ...           ...   \n",
       "43940  13401.795549        8.973605   8.114325      9.503144   \n",
       "43941   8701.454361        8.973605   8.610137      9.071245   \n",
       "43942   9536.720451        8.973605   5.991465      9.162905   \n",
       "43943   5355.248554        8.973605   6.794587      8.585832   \n",
       "43944   9958.371322        8.973605   7.130899      9.206169   \n",
       "\n",
       "       unconstrainedEst   alpha_i  prodsimest1  job_Scenario_A           Ai1  \\\n",
       "0              1.331852  3.270351     1.406918           442.0  1.365344e+05   \n",
       "1              2.882125  3.270351     3.677350           665.0  9.485046e+04   \n",
       "2             56.518643  3.270351    76.062924         29386.0  3.189570e+06   \n",
       "3             36.062256  3.270351    56.123931         15428.0  6.130599e+05   \n",
       "4              3.120065  3.270351     3.568414          1208.0  2.337144e+05   \n",
       "...                 ...       ...          ...             ...           ...   \n",
       "43940         25.463983  6.701868   131.612217          3342.0  8.660342e+05   \n",
       "43941         46.695352  6.701868   268.799374          5487.0  8.746933e+05   \n",
       "43942          7.002274  6.701868    36.861579           400.0  1.392843e+05   \n",
       "43943         17.381639  6.701868   106.060284           893.0  1.564146e+05   \n",
       "43944         15.214766  6.701868    81.767698          1250.0  3.315458e+05   \n",
       "\n",
       "                A_i   O_i    D_j   ScenarioA  \n",
       "0      9.456490e-08   599    442    7.733907  \n",
       "1      9.456490e-08   599    665    5.372745  \n",
       "2      9.456490e-08   599  58772  180.671211  \n",
       "3      9.456490e-08   599  15428   34.726392  \n",
       "4      9.456490e-08   599   1208   13.238605  \n",
       "...             ...   ...    ...         ...  \n",
       "43940  2.957584e-08  7892   3342  202.143241  \n",
       "43941  2.957584e-08  7892   5487  204.164386  \n",
       "43942  2.957584e-08  7892    400   32.510702  \n",
       "43943  2.957584e-08  7892    893   36.509138  \n",
       "43944  2.957584e-08  7892   1250   77.386948  \n",
       "\n",
       "[43945 rows x 18 columns]"
      ]
     },
     "execution_count": 54,
     "metadata": {},
     "output_type": "execute_result"
    }
   ],
   "source": [
    "data"
   ]
  },
  {
   "cell_type": "code",
   "execution_count": 87,
   "id": "c08f1e19",
   "metadata": {},
   "outputs": [
    {
     "name": "stdout",
     "output_type": "stream",
     "text": [
      "sum of estimate flow: 1542252.0 \n",
      "sum of real flow 1542283\n"
     ]
    }
   ],
   "source": [
    "print('sum of estimate flow:',round(data[\"ScenarioA\"].sum(),0),'\\nsum of real flow',data[\"flows\"].sum())"
   ]
  },
  {
   "cell_type": "code",
   "execution_count": 86,
   "id": "4108fcf5",
   "metadata": {},
   "outputs": [],
   "source": [
    "data[\"ScenarioA\"]=round(data[\"ScenarioA\"],0)"
   ]
  },
  {
   "cell_type": "markdown",
   "id": "ac9ee623",
   "metadata": {},
   "source": [
    "IV.2. Scenario B"
   ]
  },
  {
   "cell_type": "code",
   "execution_count": 56,
   "id": "2c7c333a",
   "metadata": {},
   "outputs": [],
   "source": [
    "#doubSim\n",
    "dbl_form = 'flows ~ station_destination + station_origin + log_distance - 1'\n",
    "#run a doubly constrained sim\n",
    "doubSim = smf.glm(formula = dbl_form, data=data, family=sm.families.Poisson()).fit()\n",
    "#let's have a look at it's summary\n",
    "# print(doubSim.summary())"
   ]
  },
  {
   "cell_type": "code",
   "execution_count": 57,
   "id": "74332aac",
   "metadata": {},
   "outputs": [],
   "source": [
    "data[\"doubsimfitted\"] = np.round(doubSim.mu)"
   ]
  },
  {
   "cell_type": "code",
   "execution_count": 58,
   "id": "d57de24d",
   "metadata": {},
   "outputs": [
    {
     "data": {
      "text/plain": [
       "0.41893772760573345"
      ]
     },
     "execution_count": 58,
     "metadata": {},
     "output_type": "execute_result"
    }
   ],
   "source": [
    "CalcRSqaured(data[\"flows\"], data[\"doubsimfitted\"])"
   ]
  },
  {
   "cell_type": "code",
   "execution_count": 59,
   "id": "a3f8298d",
   "metadata": {},
   "outputs": [
    {
     "data": {
      "text/plain": [
       "117.622"
      ]
     },
     "execution_count": 59,
     "metadata": {},
     "output_type": "execute_result"
    }
   ],
   "source": [
    "CalcRMSE(data[\"flows\"],data[\"doubsimfitted\"])"
   ]
  },
  {
   "cell_type": "code",
   "execution_count": 60,
   "id": "efedc9b2",
   "metadata": {},
   "outputs": [],
   "source": [
    "dbl_form = 'flows ~ station_destination + station_origin + distance - 1'\n",
    "#run a doubly constrained sim\n",
    "doubSim_exp = smf.glm(formula = dbl_form, data=data, family=sm.families.Poisson()).fit()"
   ]
  },
  {
   "cell_type": "code",
   "execution_count": 61,
   "id": "5d4cedb4",
   "metadata": {},
   "outputs": [],
   "source": [
    "data[\"doubsimfitted_exp\"] = np.round(doubSim_exp.mu)"
   ]
  },
  {
   "cell_type": "code",
   "execution_count": 62,
   "id": "8c5646fe",
   "metadata": {},
   "outputs": [
    {
     "data": {
      "text/plain": [
       "0.499777869853813"
      ]
     },
     "execution_count": 62,
     "metadata": {},
     "output_type": "execute_result"
    }
   ],
   "source": [
    "CalcRSqaured(data[\"flows\"], data[\"doubsimfitted_exp\"])"
   ]
  },
  {
   "cell_type": "code",
   "execution_count": 63,
   "id": "ff56a60b",
   "metadata": {},
   "outputs": [
    {
     "data": {
      "text/plain": [
       "109.598"
      ]
     },
     "execution_count": 63,
     "metadata": {},
     "output_type": "execute_result"
    }
   ],
   "source": [
    "CalcRMSE(data[\"flows\"],data[\"doubsimfitted_exp\"])"
   ]
  },
  {
   "cell_type": "code",
   "execution_count": 64,
   "id": "65100d58",
   "metadata": {},
   "outputs": [],
   "source": [
    "data['distance1']=data['distance']/2\n",
    "data['distance2']=data['distance']/data['jobs']"
   ]
  },
  {
   "cell_type": "code",
   "execution_count": 65,
   "id": "5818dd79",
   "metadata": {},
   "outputs": [],
   "source": [
    "dbl_form = 'flows ~ station_destination + station_origin + distance1  - 1'\n",
    "#run a doubly constrained sim\n",
    "doubSim_exp1 = smf.glm(formula = dbl_form, data=data, family=sm.families.Poisson()).fit()"
   ]
  },
  {
   "cell_type": "code",
   "execution_count": 66,
   "id": "29b037bd",
   "metadata": {},
   "outputs": [],
   "source": [
    "dbl_form = 'flows ~ station_destination + station_origin + distance2  - 1'\n",
    "#run a doubly constrained sim\n",
    "doubSim_exp2 = smf.glm(formula = dbl_form, data=data, family=sm.families.Poisson()).fit()"
   ]
  },
  {
   "cell_type": "code",
   "execution_count": 68,
   "id": "a72b2a57",
   "metadata": {},
   "outputs": [],
   "source": [
    "data[\"ScenarioB1\"] = doubSim_exp1.mu"
   ]
  },
  {
   "cell_type": "code",
   "execution_count": 82,
   "id": "3b6a902e",
   "metadata": {},
   "outputs": [],
   "source": [
    "data[\"ScenarioB2\"] = doubSim_exp2.mu"
   ]
  },
  {
   "cell_type": "code",
   "execution_count": 70,
   "id": "3e118212",
   "metadata": {},
   "outputs": [
    {
     "data": {
      "text/plain": [
       "0.00014481467725080413"
      ]
     },
     "execution_count": 70,
     "metadata": {},
     "output_type": "execute_result"
    }
   ],
   "source": [
    "beta_exp=-doubSim_exp.params[-1]\n",
    "beta_exp"
   ]
  },
  {
   "cell_type": "code",
   "execution_count": 71,
   "id": "47e365d2",
   "metadata": {},
   "outputs": [
    {
     "data": {
      "text/plain": [
       "0.0002896293545002679"
      ]
     },
     "execution_count": 71,
     "metadata": {},
     "output_type": "execute_result"
    }
   ],
   "source": [
    "beta_exp1=-doubSim_exp1.params[-1]\n",
    "beta_exp1"
   ]
  },
  {
   "cell_type": "code",
   "execution_count": 72,
   "id": "05e1efe2",
   "metadata": {},
   "outputs": [
    {
     "data": {
      "text/plain": [
       "0.1277421267286606"
      ]
     },
     "execution_count": 72,
     "metadata": {},
     "output_type": "execute_result"
    }
   ],
   "source": [
    "beta_exp2=-doubSim_exp2.params[-1]\n",
    "beta_exp2"
   ]
  },
  {
   "cell_type": "code",
   "execution_count": 73,
   "id": "248e5af2",
   "metadata": {},
   "outputs": [
    {
     "data": {
      "text/plain": [
       "1542282.9999888188"
      ]
     },
     "execution_count": 73,
     "metadata": {},
     "output_type": "execute_result"
    }
   ],
   "source": [
    "data[\"ScenarioB1\"].sum()"
   ]
  },
  {
   "cell_type": "code",
   "execution_count": 74,
   "id": "a38efef2",
   "metadata": {},
   "outputs": [
    {
     "data": {
      "text/plain": [
       "1542282.9999999746"
      ]
     },
     "execution_count": 74,
     "metadata": {},
     "output_type": "execute_result"
    }
   ],
   "source": [
    "data[\"ScenarioB2\"].sum()"
   ]
  },
  {
   "cell_type": "code",
   "execution_count": 89,
   "id": "c38d3772",
   "metadata": {},
   "outputs": [],
   "source": [
    "data[\"ScenarioB1\"]=round(data[\"ScenarioB1\"],0)"
   ]
  },
  {
   "cell_type": "code",
   "execution_count": 90,
   "id": "3a52377c",
   "metadata": {},
   "outputs": [],
   "source": [
    "data[\"ScenarioB2\"]=round(data[\"ScenarioB2\"],0)"
   ]
  },
  {
   "cell_type": "code",
   "execution_count": 78,
   "id": "970072ab",
   "metadata": {},
   "outputs": [
    {
     "data": {
      "text/plain": [
       "0.49981158150084015"
      ]
     },
     "execution_count": 78,
     "metadata": {},
     "output_type": "execute_result"
    }
   ],
   "source": [
    "CalcRSqaured(data[\"flows\"], data[\"ScenarioB1\"])"
   ]
  },
  {
   "cell_type": "code",
   "execution_count": 110,
   "id": "fd57aa9b",
   "metadata": {},
   "outputs": [
    {
     "name": "stderr",
     "output_type": "stream",
     "text": [
      "/opt/conda/envs/sds2021/lib/python3.9/site-packages/seaborn/distributions.py:2557: FutureWarning: `distplot` is a deprecated function and will be removed in a future version. Please adapt your code to use either `displot` (a figure-level function with similar flexibility) or `histplot` (an axes-level function for histograms).\n",
      "  warnings.warn(msg, FutureWarning)\n"
     ]
    },
    {
     "data": {
      "text/plain": [
       "<AxesSubplot:xlabel='flows', ylabel='Density'>"
      ]
     },
     "execution_count": 110,
     "metadata": {},
     "output_type": "execute_result"
    },
    {
     "data": {
      "image/png": "[encoded data removed]",
      "text/plain": [
       "<Figure size 432x288 with 1 Axes>"
      ]
     },
     "metadata": {
      "needs_background": "light"
     },
     "output_type": "display_data"
    }
   ],
   "source": [
    "sns.distplot(data[data[\"flows\"]<100]['flows']) "
   ]
  },
  {
   "cell_type": "code",
   "execution_count": 114,
   "id": "a50757ad",
   "metadata": {},
   "outputs": [
    {
     "name": "stderr",
     "output_type": "stream",
     "text": [
      "/opt/conda/envs/sds2021/lib/python3.9/site-packages/seaborn/distributions.py:2557: FutureWarning: `distplot` is a deprecated function and will be removed in a future version. Please adapt your code to use either `displot` (a figure-level function with similar flexibility) or `histplot` (an axes-level function for histograms).\n",
      "  warnings.warn(msg, FutureWarning)\n"
     ]
    },
    {
     "data": {
      "text/plain": [
       "<AxesSubplot:xlabel='ScenarioB1', ylabel='Density'>"
      ]
     },
     "execution_count": 114,
     "metadata": {},
     "output_type": "execute_result"
    },
    {
     "data": {
      "image/png": "[encoded data removed]",
      "text/plain": [
       "<Figure size 432x288 with 1 Axes>"
      ]
     },
     "metadata": {
      "needs_background": "light"
     },
     "output_type": "display_data"
    }
   ],
   "source": [
    "sns.distplot(data[data[\"ScenarioB1\"]<100]['ScenarioB1']) "
   ]
  },
  {
   "cell_type": "code",
   "execution_count": 112,
   "id": "2685c41b",
   "metadata": {
    "scrolled": true
   },
   "outputs": [
    {
     "name": "stderr",
     "output_type": "stream",
     "text": [
      "/opt/conda/envs/sds2021/lib/python3.9/site-packages/seaborn/distributions.py:2557: FutureWarning: `distplot` is a deprecated function and will be removed in a future version. Please adapt your code to use either `displot` (a figure-level function with similar flexibility) or `histplot` (an axes-level function for histograms).\n",
      "  warnings.warn(msg, FutureWarning)\n"
     ]
    },
    {
     "data": {
      "text/plain": [
       "<AxesSubplot:xlabel='ScenarioB2', ylabel='Density'>"
      ]
     },
     "execution_count": 112,
     "metadata": {},
     "output_type": "execute_result"
    },
    {
     "data": {
      "image/png": "[encoded data removed]",
      "text/plain": [
       "<Figure size 432x288 with 1 Axes>"
      ]
     },
     "metadata": {
      "needs_background": "light"
     },
     "output_type": "display_data"
    }
   ],
   "source": [
    "sns.distplot(data[data[\"ScenarioB2\"]<100]['ScenarioB2']) "
   ]
  },
  {
   "cell_type": "code",
   "execution_count": 113,
   "id": "2d79c2bd",
   "metadata": {},
   "outputs": [
    {
     "name": "stderr",
     "output_type": "stream",
     "text": [
      "/opt/conda/envs/sds2021/lib/python3.9/site-packages/seaborn/distributions.py:2557: FutureWarning: `distplot` is a deprecated function and will be removed in a future version. Please adapt your code to use either `displot` (a figure-level function with similar flexibility) or `histplot` (an axes-level function for histograms).\n",
      "  warnings.warn(msg, FutureWarning)\n"
     ]
    },
    {
     "data": {
      "text/plain": [
       "<AxesSubplot:xlabel='ScenarioA', ylabel='Density'>"
      ]
     },
     "execution_count": 113,
     "metadata": {},
     "output_type": "execute_result"
    },
    {
     "data": {
      "image/png": "[encoded data removed]",
      "text/plain": [
       "<Figure size 432x288 with 1 Axes>"
      ]
     },
     "metadata": {
      "needs_background": "light"
     },
     "output_type": "display_data"
    }
   ],
   "source": [
    "sns.distplot(data[data[\"ScenarioA\"]<100]['ScenarioA']) "
   ]
  },
  {
   "cell_type": "code",
   "execution_count": 108,
   "id": "db7bec5b",
   "metadata": {},
   "outputs": [
    {
     "data": {
      "text/plain": [
       "count    43945.000000\n",
       "mean        35.095756\n",
       "std        154.299058\n",
       "min          1.000000\n",
       "25%          2.000000\n",
       "50%          6.000000\n",
       "75%         23.000000\n",
       "max      15946.000000\n",
       "Name: flows, dtype: float64"
      ]
     },
     "execution_count": 108,
     "metadata": {},
     "output_type": "execute_result"
    }
   ],
   "source": [
    "data[\"flows\"].describe()\n",
    "# high_limit=55  #Q3+1.5*IQR"
   ]
  },
  {
   "cell_type": "code",
   "execution_count": 99,
   "id": "c3d6d65d",
   "metadata": {},
   "outputs": [
    {
     "data": {
      "text/plain": [
       "count    43945.000000\n",
       "mean        35.095051\n",
       "std         73.791184\n",
       "min          0.000000\n",
       "25%          7.000000\n",
       "50%         16.000000\n",
       "75%         36.000000\n",
       "max       2953.000000\n",
       "Name: ScenarioA, dtype: float64"
      ]
     },
     "execution_count": 99,
     "metadata": {},
     "output_type": "execute_result"
    }
   ],
   "source": [
    "data[\"ScenarioA\"].describe()\n",
    "# high_limit=76"
   ]
  },
  {
   "cell_type": "code",
   "execution_count": 93,
   "id": "2e5d35f6",
   "metadata": {},
   "outputs": [
    {
     "data": {
      "text/plain": [
       "count    43945.000000\n",
       "mean        35.095301\n",
       "std         98.957292\n",
       "min          0.000000\n",
       "25%          4.000000\n",
       "50%         11.000000\n",
       "75%         30.000000\n",
       "max       4343.000000\n",
       "Name: ScenarioB1, dtype: float64"
      ]
     },
     "execution_count": 93,
     "metadata": {},
     "output_type": "execute_result"
    }
   ],
   "source": [
    "data[\"ScenarioB1\"].describe()\n",
    "# high_limit=78"
   ]
  },
  {
   "cell_type": "code",
   "execution_count": 98,
   "id": "64a8ffd8",
   "metadata": {},
   "outputs": [
    {
     "data": {
      "text/plain": [
       "count    43945.000000\n",
       "mean        35.091296\n",
       "std         84.739529\n",
       "min          0.000000\n",
       "25%          5.000000\n",
       "50%         12.000000\n",
       "75%         34.000000\n",
       "max       3128.000000\n",
       "Name: ScenarioB2, dtype: float64"
      ]
     },
     "execution_count": 98,
     "metadata": {},
     "output_type": "execute_result"
    }
   ],
   "source": [
    "data[\"ScenarioB2\"].describe()\n",
    "# high_limit=69"
   ]
  },
  {
   "cell_type": "code",
   "execution_count": 115,
   "id": "650c8756",
   "metadata": {},
   "outputs": [
    {
     "data": {
      "image/png": "[encoded data removed]",
      "text/plain": [
       "<Figure size 1440x720 with 1 Axes>"
      ]
     },
     "metadata": {
      "needs_background": "light"
     },
     "output_type": "display_data"
    }
   ],
   "source": [
    "plt.figure(figsize=(20,10))\n",
    "labels=['real flow','Scenario A','Scenario B(1)','Scenario B(2)']\n",
    "m='cases'\n",
    "plt.boxplot([data[data[\"flows\"]<55][\"flows\"],data[data[\"ScenarioA\"]<76][\"ScenarioA\"],data[data[\"ScenarioB1\"]<78][\"ScenarioB1\"],data[data[\"ScenarioB2\"]<69][\"ScenarioB2\"]],labels=labels)\n",
    "plt.title(\" Boxplots of flow(outliers remove)\",fontsize = 30)\n",
    "plt.xticks(fontsize=20)\n",
    "plt.yticks(fontsize=20)\n",
    "plt.savefig('boxplotcase.png')\n",
    "plt.show()"
   ]
  },
  {
   "cell_type": "code",
   "execution_count": 116,
   "id": "c2b608e5",
   "metadata": {},
   "outputs": [
    {
     "data": {
      "image/png": "[encoded data removed]",
      "text/plain": [
       "<Figure size 1440x720 with 1 Axes>"
      ]
     },
     "metadata": {
      "needs_background": "light"
     },
     "output_type": "display_data"
    }
   ],
   "source": [
    "plt.figure(figsize=(20,10))\n",
    "labels=['real flow','Scenario A','Scenario B(1)','Scenario B(2)']\n",
    "m='cases'\n",
    "plt.boxplot([data[\"flows\"],data[\"ScenarioA\"],data[\"ScenarioB1\"],data[\"ScenarioB2\"]],labels=labels)\n",
    "plt.title(\" Boxplots of flow(original)\",fontsize = 30)\n",
    "plt.xticks(fontsize=20)\n",
    "plt.yticks(fontsize=20)\n",
    "plt.savefig('boxplotcase.png')\n",
    "plt.show()"
   ]
  },
  {
   "cell_type": "code",
   "execution_count": null,
   "id": "54615284",
   "metadata": {},
   "outputs": [],
   "source": [
    "data['SIM_est_pow_2'].sum()"
   ]
  },
  {
   "cell_type": "code",
   "execution_count": null,
   "id": "a554a1ba",
   "metadata": {},
   "outputs": [],
   "source": [
    "data[\"doubsimfitted\"] = np.round(doubSim.mu)"
   ]
  },
  {
   "cell_type": "code",
   "execution_count": null,
   "id": "fb55aa13",
   "metadata": {},
   "outputs": [],
   "source": [
    "CalcRSqaured(data[\"flows\"],data[\"doubsimfitted\"]\"])"
   ]
  },
  {
   "cell_type": "code",
   "execution_count": null,
   "id": "c76b517b",
   "metadata": {},
   "outputs": [],
   "source": [
    "CalcRMSE(data[\"flows\"],data[\"doubsimfitted\"])"
   ]
  }
 ],
 "metadata": {
  "kernelspec": {
   "display_name": "Python 3 (ipykernel)",
   "language": "python",
   "name": "python3"
  },
  "language_info": {
   "codemirror_mode": {
    "name": "ipython",
    "version": 3
   },
   "file_extension": ".py",
   "mimetype": "text/x-python",
   "name": "python",
   "nbconvert_exporter": "python",
   "pygments_lexer": "ipython3",
   "version": "3.9.6"
  }
 },
 "nbformat": 4,
 "nbformat_minor": 5
}
